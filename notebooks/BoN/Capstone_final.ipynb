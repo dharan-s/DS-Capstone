{
 "cells": [
  {
   "cell_type": "markdown",
   "metadata": {},
   "source": [
    "<h1> Battle of Neighborhoods </h1>"
   ]
  },
  {
   "cell_type": "markdown",
   "metadata": {},
   "source": [
    "<h2> 1. Introduction </h2>"
   ]
  },
  {
   "cell_type": "markdown",
   "metadata": {},
   "source": [
    "<h3> 1.1 Background </h3>"
   ]
  },
  {
   "cell_type": "markdown",
   "metadata": {},
   "source": [
    "New York is a major central city for diversity since many people from different cultural atmospheres have brought their families and dreams to New York City. The city has consistently seen people from around the world move to the city and call it home. It has been a center for trade and economic growth. New York is known world wide as a cultural melting pot. While other states have had immigration surges, none have compared to the diversity and sheer number of immigrants that have made their way to the City. So these number of varies cultures combined to create a great diversity for itself. Since People from all over the world tend to come up here, we can see some many of their cultural aspects Transport, Food, Clothing, and so on..."
   ]
  },
  {
   "cell_type": "markdown",
   "metadata": {},
   "source": [
    "<h3> 1.2 Problem </h3>"
   ]
  },
  {
   "cell_type": "markdown",
   "metadata": {},
   "source": [
    "Restaurant is a place where people come to have food and drinks for a cost, People love to do many things and try something new or stick with their own routines, it depends on the individual and there are so many of them with different cultural and various aspects in New York city. There are so many cuisines, which is based on the style of cooking, the ingredients, dishes and techniques. For our problem lets stick with Indian cuisine.\n",
    "\n",
    "Let's assume in this one of the world's most diverse region we want to open an Indian restaurant, so what are all the factors we have to take into account such as follows,\n",
    "\n",
    "Market Places\n",
    "Competition in particular location\n",
    "Aiding places that make people come to restaurants like Gym, Entertaining Public places\n",
    "Population\n",
    "Menu from competitors\n",
    "And so on... So our solution needs to be data driven for avoiding or considering low risk criteria and high success rate and thus apply our overall knowledge in the techniques and the tools gained so far in this course."
   ]
  },
  {
   "cell_type": "markdown",
   "metadata": {},
   "source": [
    "<h3> 1.3 Interest </h3>"
   ]
  },
  {
   "cell_type": "markdown",
   "metadata": {},
   "source": [
    "\n",
    "The main interest of the Business to be started as an Indian Cuisine restaurant would be to know about the many criteria that leads to come to a data driven conclusion for selecting the best neighborhood for opening one. But some of the criteria we are gonna be focusing on in our project is as follows,\n",
    "\n",
    "Best Neighborhood for opening Restaurant (Indian Cuisine) in New York.\n",
    "Area which lack Indian Restaurants.\n",
    "Places with best Indian Cuisine.\n",
    "Areas with Potential Indian Restaurants."
   ]
  },
  {
   "cell_type": "markdown",
   "metadata": {},
   "source": [
    "<h2> 2. Data Acquisition and Cleaning </h2>"
   ]
  },
  {
   "cell_type": "markdown",
   "metadata": {},
   "source": [
    "<h3> 2.1 Data Sources </h3>"
   ]
  },
  {
   "cell_type": "markdown",
   "metadata": {},
   "source": [
    "Since we will be focusing on New York for opening our restaurant, we will be gathering the data for the same and the three main data we are gonna use are the New York Neighborhood data which we already used in the Neighborhoods in New York and the data about the cuisines in New York and the Geo spacial data of boundaries of the Neighborhoods in New York."
   ]
  },
  {
   "cell_type": "markdown",
   "metadata": {},
   "source": [
    "<h4> 2.1.1 Data 1: </h4>"
   ]
  },
  {
   "cell_type": "markdown",
   "metadata": {},
   "source": [
    "New York Neighborhood Data which will be used to get to know about the various neighborhoods which are gonna take into consideration for our Project.\n"
   ]
  },
  {
   "cell_type": "markdown",
   "metadata": {},
   "source": [
    "<img src='d1.jpg' />"
   ]
  },
  {
   "cell_type": "markdown",
   "metadata": {},
   "source": [
    "Data source : https://cocl.us/new_york_dataset"
   ]
  },
  {
   "cell_type": "markdown",
   "metadata": {},
   "source": [
    "<h4> 2.1.2 Data 2: </h4>"
   ]
  },
  {
   "cell_type": "markdown",
   "metadata": {},
   "source": [
    "Geo-spacial data of the New York to get a better understanding of the neighborhoods in it and their corresponding locations in the Folium map would make certain things clear for the Project. This will be achieved using the acquired data and visualize the same using Choropleth maps."
   ]
  },
  {
   "cell_type": "markdown",
   "metadata": {},
   "source": [
    "<img src = 'd2.jpg' />"
   ]
  },
  {
   "cell_type": "markdown",
   "metadata": {},
   "source": [
    "Data source : https://data.cityofnewyork.us/City-Government/Borough-Boundaries/tqmj-j8zm"
   ]
  },
  {
   "cell_type": "markdown",
   "metadata": {},
   "source": [
    "<h4> 2.1.3 Data 3: </h4>"
   ]
  },
  {
   "cell_type": "markdown",
   "metadata": {},
   "source": [
    "Finally the data going to be collected/acquired from the Foursquare API about the various restaurants in each neighborhood of New York city especially Indian cuisine, which will be used for acquiring the information regarding same for all the venues of each neighborhood."
   ]
  },
  {
   "cell_type": "markdown",
   "metadata": {},
   "source": [
    "Data source : <a> Foursquare </a>"
   ]
  },
  {
   "cell_type": "markdown",
   "metadata": {},
   "source": [
    "<h3> 2.2 Data Cleaning and approach </h3>"
   ]
  },
  {
   "cell_type": "markdown",
   "metadata": {},
   "source": [
    "<li> Acquire the data from the various sources as mentioned below, \n",
    "    <ul>New York neighborhood data from <a> https://cocl.us/new_york_dataset </a></ul>\n",
    "        <ul> Borough Boundaries data from <a> https://data.cityofnewyork.us/City-Government/Borough-Boundaries/tqmj-j8zm </a></ul>\n",
    "        <ul> Indian Cuisine related data from <a>Foursquare</a> </ul> </li>\n",
    "<li> Filter the data for the required data acquired from Foursqaure which is only about Indian Cuisine. </li>\n",
    "<li> Acquire the tips and from that get the rating of every restaurant in the neighborhood of New York. </li>\n",
    "<li> Visualize the findings using Matplot lib and Folium for better understanding. </li>"
   ]
  },
  {
   "cell_type": "markdown",
   "metadata": {},
   "source": [
    "<h2> 3. Exploratory Data Analysis </h2>"
   ]
  },
  {
   "cell_type": "markdown",
   "metadata": {},
   "source": [
    "<h3> 3.1 Relationship between the neighborhood and the restaurant </h3>"
   ]
  },
  {
   "cell_type": "code",
   "execution_count": 2,
   "metadata": {},
   "outputs": [
    {
     "name": "stdout",
     "output_type": "stream",
     "text": [
      "Collecting package metadata (current_repodata.json): done\n",
      "Solving environment: done\n",
      "\n",
      "## Package Plan ##\n",
      "\n",
      "  environment location: /home/jupyterlab/conda/envs/python\n",
      "\n",
      "  added / updated specs:\n",
      "    - geopy\n",
      "\n",
      "\n",
      "The following packages will be downloaded:\n",
      "\n",
      "    package                    |            build\n",
      "    ---------------------------|-----------------\n",
      "    geographiclib-1.50         |             py_0          34 KB  conda-forge\n",
      "    geopy-2.0.0                |     pyh9f0ad1d_0          63 KB  conda-forge\n",
      "    ------------------------------------------------------------\n",
      "                                           Total:          97 KB\n",
      "\n",
      "The following NEW packages will be INSTALLED:\n",
      "\n",
      "  geographiclib      conda-forge/noarch::geographiclib-1.50-py_0\n",
      "  geopy              conda-forge/noarch::geopy-2.0.0-pyh9f0ad1d_0\n",
      "\n",
      "\n",
      "\n",
      "Downloading and Extracting Packages\n",
      "geopy-2.0.0          | 63 KB     | ##################################### | 100% \n",
      "geographiclib-1.50   | 34 KB     | ##################################### | 100% \n",
      "Preparing transaction: done\n",
      "Verifying transaction: done\n",
      "Executing transaction: done\n",
      "Imported Libraries.\n",
      "------------------------------------------------------------------------------------------------------------------------\n"
     ]
    }
   ],
   "source": [
    "import pandas as pd\n",
    "import numpy as np\n",
    "import requests\n",
    "import os\n",
    "\n",
    "import folium # For rendering maps\n",
    "\n",
    "!conda install -c conda-forge geopy --yes # uncomment this line if you haven't completed the Foursquare API lab\n",
    "from geopy.geocoders import Nominatim # Acquiring latitude and longitude\n",
    "\n",
    "# Matplotlib and associated plotting modules\n",
    "import matplotlib.pyplot as plt\n",
    "import matplotlib.cm as cm\n",
    "import matplotlib.colors as colors\n",
    "%matplotlib inline\n",
    "\n",
    "pd.set_option('display.max_columns', None)\n",
    "pd.set_option('display.max_rows', None)\n",
    "\n",
    "print('Imported Libraries.')\n",
    "print('------------------------------------------------------------------------------------------------------------------------')"
   ]
  },
  {
   "cell_type": "markdown",
   "metadata": {},
   "source": [
    "Define function to create a data set about New York from the acquired data."
   ]
  },
  {
   "cell_type": "code",
   "execution_count": 3,
   "metadata": {},
   "outputs": [],
   "source": [
    "\n",
    "def get_new_york_data():\n",
    "    url='https://cocl.us/new_york_dataset'\n",
    "    resp=requests.get(url).json()\n",
    "    # all data is present in features label\n",
    "    features=resp['features']\n",
    "    \n",
    "    # define the dataframe columns\n",
    "    column_names = ['Borough', 'Neighborhood', 'Latitude', 'Longitude'] \n",
    "    # instantiate the dataframe\n",
    "    new_york_data = pd.DataFrame(columns=column_names)\n",
    "    \n",
    "    for data in features:\n",
    "        borough = data['properties']['borough'] \n",
    "        neighborhood_name = data['properties']['name']\n",
    "        \n",
    "        neighborhood_latlon = data['geometry']['coordinates']\n",
    "        neighborhood_lat = neighborhood_latlon[1]\n",
    "        neighborhood_lon = neighborhood_latlon[0]\n",
    "    \n",
    "        new_york_data = new_york_data.append({'Borough': borough,\n",
    "                                          'Neighborhood': neighborhood_name,\n",
    "                                          'Latitude': neighborhood_lat,\n",
    "                                          'Longitude': neighborhood_lon}, ignore_index=True)\n",
    "    \n",
    "    return new_york_data"
   ]
  },
  {
   "cell_type": "code",
   "execution_count": 4,
   "metadata": {},
   "outputs": [],
   "source": [
    "df_ny = get_new_york_data()"
   ]
  },
  {
   "cell_type": "code",
   "execution_count": 5,
   "metadata": {},
   "outputs": [
    {
     "data": {
      "text/html": [
       "<div>\n",
       "<style scoped>\n",
       "    .dataframe tbody tr th:only-of-type {\n",
       "        vertical-align: middle;\n",
       "    }\n",
       "\n",
       "    .dataframe tbody tr th {\n",
       "        vertical-align: top;\n",
       "    }\n",
       "\n",
       "    .dataframe thead th {\n",
       "        text-align: right;\n",
       "    }\n",
       "</style>\n",
       "<table border=\"1\" class=\"dataframe\">\n",
       "  <thead>\n",
       "    <tr style=\"text-align: right;\">\n",
       "      <th></th>\n",
       "      <th>Borough</th>\n",
       "      <th>Neighborhood</th>\n",
       "      <th>Latitude</th>\n",
       "      <th>Longitude</th>\n",
       "    </tr>\n",
       "  </thead>\n",
       "  <tbody>\n",
       "    <tr>\n",
       "      <th>0</th>\n",
       "      <td>Bronx</td>\n",
       "      <td>Wakefield</td>\n",
       "      <td>40.894705</td>\n",
       "      <td>-73.847201</td>\n",
       "    </tr>\n",
       "    <tr>\n",
       "      <th>1</th>\n",
       "      <td>Bronx</td>\n",
       "      <td>Co-op City</td>\n",
       "      <td>40.874294</td>\n",
       "      <td>-73.829939</td>\n",
       "    </tr>\n",
       "    <tr>\n",
       "      <th>2</th>\n",
       "      <td>Bronx</td>\n",
       "      <td>Eastchester</td>\n",
       "      <td>40.887556</td>\n",
       "      <td>-73.827806</td>\n",
       "    </tr>\n",
       "    <tr>\n",
       "      <th>3</th>\n",
       "      <td>Bronx</td>\n",
       "      <td>Fieldston</td>\n",
       "      <td>40.895437</td>\n",
       "      <td>-73.905643</td>\n",
       "    </tr>\n",
       "    <tr>\n",
       "      <th>4</th>\n",
       "      <td>Bronx</td>\n",
       "      <td>Riverdale</td>\n",
       "      <td>40.890834</td>\n",
       "      <td>-73.912585</td>\n",
       "    </tr>\n",
       "  </tbody>\n",
       "</table>\n",
       "</div>"
      ],
      "text/plain": [
       "  Borough Neighborhood   Latitude  Longitude\n",
       "0   Bronx    Wakefield  40.894705 -73.847201\n",
       "1   Bronx   Co-op City  40.874294 -73.829939\n",
       "2   Bronx  Eastchester  40.887556 -73.827806\n",
       "3   Bronx    Fieldston  40.895437 -73.905643\n",
       "4   Bronx    Riverdale  40.890834 -73.912585"
      ]
     },
     "execution_count": 5,
     "metadata": {},
     "output_type": "execute_result"
    }
   ],
   "source": [
    "df_ny.head()"
   ]
  },
  {
   "cell_type": "code",
   "execution_count": 6,
   "metadata": {},
   "outputs": [
    {
     "data": {
      "text/plain": [
       "(306, 4)"
      ]
     },
     "execution_count": 6,
     "metadata": {},
     "output_type": "execute_result"
    }
   ],
   "source": [
    "df_ny.shape"
   ]
  },
  {
   "cell_type": "code",
   "execution_count": 7,
   "metadata": {},
   "outputs": [
    {
     "data": {
      "text/html": [
       "<div>\n",
       "<style scoped>\n",
       "    .dataframe tbody tr th:only-of-type {\n",
       "        vertical-align: middle;\n",
       "    }\n",
       "\n",
       "    .dataframe tbody tr th {\n",
       "        vertical-align: top;\n",
       "    }\n",
       "\n",
       "    .dataframe thead th {\n",
       "        text-align: right;\n",
       "    }\n",
       "</style>\n",
       "<table border=\"1\" class=\"dataframe\">\n",
       "  <thead>\n",
       "    <tr style=\"text-align: right;\">\n",
       "      <th></th>\n",
       "      <th>Borough</th>\n",
       "      <th>Neighborhood</th>\n",
       "      <th>Latitude</th>\n",
       "      <th>Longitude</th>\n",
       "    </tr>\n",
       "  </thead>\n",
       "  <tbody>\n",
       "    <tr>\n",
       "      <th>7</th>\n",
       "      <td>Bronx</td>\n",
       "      <td>Woodlawn</td>\n",
       "      <td>40.898273</td>\n",
       "      <td>-73.867315</td>\n",
       "    </tr>\n",
       "  </tbody>\n",
       "</table>\n",
       "</div>"
      ],
      "text/plain": [
       "  Borough Neighborhood   Latitude  Longitude\n",
       "7   Bronx     Woodlawn  40.898273 -73.867315"
      ]
     },
     "execution_count": 7,
     "metadata": {},
     "output_type": "execute_result"
    }
   ],
   "source": [
    "df_ny[df_ny['Neighborhood']=='Woodlawn']"
   ]
  },
  {
   "cell_type": "markdown",
   "metadata": {},
   "source": [
    "\n",
    "Initially get to know about the various boroughs and neighborhoods using a bar chart in New York."
   ]
  },
  {
   "cell_type": "code",
   "execution_count": 8,
   "metadata": {},
   "outputs": [
    {
     "data": {
      "image/png": "[encoded data removed]",
      "text/plain": [
       "<Figure size 560x560 with 1 Axes>"
      ]
     },
     "metadata": {
      "needs_background": "light"
     },
     "output_type": "display_data"
    }
   ],
   "source": [
    "plt.figure(figsize=(7,7), dpi = 80)\n",
    "# title\n",
    "plt.title('Number of Neighborhood for each Borough in New York City')\n",
    "#On x-axis\n",
    "plt.xlabel('Borough', fontsize = 15)\n",
    "#On y-axis\n",
    "plt.ylabel('No.of Neighborhood', fontsize=15)\n",
    "#giving a bar plot\n",
    "df_ny.groupby('Borough')['Neighborhood'].count().plot(kind='bar', color='#12EA92')\n",
    "#legend\n",
    "plt.legend()\n",
    "#displays the plot\n",
    "plt.show()"
   ]
  },
  {
   "cell_type": "markdown",
   "metadata": {},
   "source": [
    "Define function for acquiring the latitude and longitude from the provided location"
   ]
  },
  {
   "cell_type": "code",
   "execution_count": 9,
   "metadata": {},
   "outputs": [],
   "source": [
    "def geo_location(address):\n",
    "    # get geo location of address\n",
    "    geolocator = Nominatim(user_agent=\"ny_explorer\")\n",
    "    location = geolocator.geocode(address)\n",
    "    latitude = location.latitude\n",
    "    longitude = location.longitude\n",
    "    return latitude,longitude"
   ]
  },
  {
   "cell_type": "markdown",
   "metadata": {},
   "source": [
    "Define a function to get the details of the venue by accessing the Foursquare API"
   ]
  },
  {
   "cell_type": "code",
   "execution_count": 10,
   "metadata": {},
   "outputs": [],
   "source": [
    "def get_venues(lat,lng):\n",
    "    \n",
    "    #set variables\n",
    "    radius=1000\n",
    "    LIMIT=100\n",
    "    CLIENT_ID =  # your Foursquare ID\n",
    "    CLIENT_SECRET = # your Foursquare Secret\n",
    "    VERSION = '20180605' # Foursquare API version\n",
    "    \n",
    "    #url to fetch data from foursquare api\n",
    "    url = 'https://api.foursquare.com/v2/venues/explore?&client_id={}&client_secret={}&v={}&ll={},{}&radius={}&limit={}'.format(\n",
    "            CLIENT_ID, \n",
    "            CLIENT_SECRET, \n",
    "            VERSION, \n",
    "            lat, \n",
    "            lng, \n",
    "            radius, \n",
    "            LIMIT)\n",
    "    \n",
    "    # get all the data\n",
    "    results = requests.get(url).json()\n",
    "    venue_data=results[\"response\"]['groups'][0]['items']\n",
    "    venue_details=[]\n",
    "    for row in venue_data:\n",
    "        try:\n",
    "            venue_id=row['venue']['id']\n",
    "            venue_name=row['venue']['name']\n",
    "            venue_category=row['venue']['categories'][0]['name']\n",
    "            venue_details.append([venue_id,venue_name,venue_category])\n",
    "        except KeyError:\n",
    "            pass\n",
    "        \n",
    "    column_names=['ID','Name','Category']\n",
    "    df = pd.DataFrame(venue_details,columns=column_names)\n",
    "    return df\n",
    "\n",
    "def get_venue_details(venue_id):\n",
    "        \n",
    "    CLIENT_ID =  # your Foursquare ID\n",
    "    CLIENT_SECRET =  # your Foursquare Secret\n",
    "    VERSION = '20180605' # Foursquare API version\n",
    "    \n",
    "    #url to fetch data from foursquare api\n",
    "    url = 'https://api.foursquare.com/v2/venues/{}?&client_id={}&client_secret={}&v={}'.format(\n",
    "            venue_id,\n",
    "            CLIENT_ID, \n",
    "            CLIENT_SECRET, \n",
    "            VERSION)\n",
    "    \n",
    "    # get all the data\n",
    "    print(url)\n",
    "    \n",
    "    results = requests.get(url).json()\n",
    "    #print(results)\n",
    "    venue_data=results['response']['venue']\n",
    "    venue_details=[]\n",
    "    try:\n",
    "        venue_id=venue_data['id']\n",
    "        venue_name=venue_data['name']\n",
    "        venue_likes=venue_data['likes']['count']\n",
    "        venue_rating=venue_data['rating']\n",
    "        venue_tips=venue_data['tips']['count']\n",
    "        venue_details.append([venue_id,venue_name,venue_likes,venue_rating,venue_tips])\n",
    "    except KeyError:\n",
    "        pass\n",
    "        \n",
    "    column_names=['ID','Name','Likes','Rating','Tips']\n",
    "    df = pd.DataFrame(venue_details,columns=column_names)\n",
    "    return df"
   ]
  },
  {
   "cell_type": "markdown",
   "metadata": {},
   "source": [
    "Get a list of each and every Indian Cuisine in the New York."
   ]
  },
  {
   "cell_type": "code",
   "execution_count": 11,
   "metadata": {},
   "outputs": [],
   "source": [
    "vns = get_venues(40.898273,-73.867315)\n",
    "vns[vns['Category']=='Indian Restaurant']\n",
    "vns.to_csv('vns.csv', index=False)"
   ]
  },
  {
   "cell_type": "code",
   "execution_count": 12,
   "metadata": {},
   "outputs": [
    {
     "data": {
      "text/plain": [
       "[['4c0448d9310fc9b6bf1dc761', 'Curry Spot', 'Indian Restaurant']]"
      ]
     },
     "execution_count": 12,
     "metadata": {},
     "output_type": "execute_result"
    }
   ],
   "source": [
    "ind_res = vns[vns['Category']=='Indian Restaurant'].values.tolist()\n",
    "ind_res"
   ]
  },
  {
   "cell_type": "code",
   "execution_count": 13,
   "metadata": {},
   "outputs": [
    {
     "data": {
      "text/plain": [
       "True"
      ]
     },
     "execution_count": 13,
     "metadata": {},
     "output_type": "execute_result"
    }
   ],
   "source": [
    "len(vns[vns['Category']=='Indian Restaurant'].values.tolist()) > 0"
   ]
  },
  {
   "cell_type": "code",
   "execution_count": 14,
   "metadata": {},
   "outputs": [
    {
     "name": "stdout",
     "output_type": "stream",
     "text": [
      "Length :  306\n",
      "['Bronx', 'Wakefield', 40.89470517661, -73.84720052054902]\n",
      "['Bronx', 'Co-op City', 40.87429419303012, -73.82993910812398]\n",
      "['Bronx', 'Eastchester', 40.887555677350775, -73.82780644716412]\n",
      "['Bronx', 'Fieldston', 40.89543742690383, -73.90564259591682]\n",
      "['Bronx', 'Riverdale', 40.890834493891305, -73.9125854610857]\n",
      "['Bronx', 'Kingsbridge', 40.88168737120521, -73.90281798724604]\n",
      "['Manhattan', 'Marble Hill', 40.87655077879964, -73.91065965862981]\n",
      "['Bronx', 'Woodlawn', 40.89827261213805, -73.86731496814176]\n",
      "['Bronx', 'Norwood', 40.87722415599446, -73.8793907395681]\n",
      "['Bronx', 'Williamsbridge', 40.88103887819211, -73.85744642974207]\n"
     ]
    }
   ],
   "source": [
    "print(\"Length : \", len(df_ny.values.tolist()))\n",
    "limit=0\n",
    "for row in df_ny.values.tolist():\n",
    "    if limit == 10:\n",
    "        break\n",
    "    print(row)\n",
    "    limit += 1"
   ]
  },
  {
   "cell_type": "code",
   "execution_count": 14,
   "metadata": {},
   "outputs": [
    {
     "name": "stdout",
     "output_type": "stream",
     "text": [
      "Indian restaurants in\n",
      "---------------------\n",
      "Woodlawn, Bronx : 1\n",
      "Parkchester, Bronx : 1\n",
      "Spuyten Duyvil, Bronx : 1\n",
      "Concourse, Bronx : 1\n",
      "Unionport, Bronx : 1\n",
      "Bay Ridge, Brooklyn : 2\n",
      "Brighton Beach, Brooklyn : 1\n",
      "Flatbush, Brooklyn : 2\n",
      "East Flatbush, Brooklyn : 1\n",
      "Kensington, Brooklyn : 2\n",
      "Gowanus, Brooklyn : 1\n",
      "Fort Greene, Brooklyn : 1\n",
      "Clinton Hill, Brooklyn : 2\n",
      "Prospect Lefferts Gardens, Brooklyn : 1\n",
      "Ocean Hill, Brooklyn : 2\n",
      "Prospect Park South, Brooklyn : 2\n",
      "North Side, Brooklyn : 1\n",
      "South Side, Brooklyn : 1\n",
      "Fort Hamilton, Brooklyn : 1\n",
      "Washington Heights, Manhattan : 1\n",
      "Hamilton Heights, Manhattan : 2\n",
      "Manhattanville, Manhattan : 2\n",
      "Central Harlem, Manhattan : 2\n",
      "East Harlem, Manhattan : 1\n",
      "Yorkville, Manhattan : 3\n",
      "Roosevelt Island, Manhattan : 1\n",
      "Upper West Side, Manhattan : 2\n",
      "Chelsea, Manhattan : 1\n",
      "Greenwich Village, Manhattan : 1\n",
      "Tribeca, Manhattan : 1\n",
      "West Village, Manhattan : 2\n",
      "Manhattan Valley, Manhattan : 2\n",
      "Morningside Heights, Manhattan : 1\n",
      "Gramercy, Manhattan : 5\n",
      "Astoria, Queens : 2\n",
      "Woodside, Queens : 8\n",
      "Jackson Heights, Queens : 5\n",
      "Elmhurst, Queens : 2\n",
      "Kew Gardens, Queens : 2\n",
      "Richmond Hill, Queens : 8\n",
      "Long Island City, Queens : 2\n",
      "Sunnyside, Queens : 1\n",
      "Ridgewood, Queens : 1\n",
      "Rego Park, Queens : 1\n",
      "South Ozone Park, Queens : 1\n",
      "Bayside, Queens : 3\n",
      "Glen Oaks, Queens : 4\n",
      "Kew Gardens Hills, Queens : 1\n",
      "Briarwood, Queens : 3\n",
      "Jamaica Center, Queens : 4\n",
      "Steinway, Queens : 1\n",
      "Floral Park, Queens : 8\n",
      "Holliswood, Queens : 1\n",
      "Jamaica Estates, Queens : 2\n",
      "Queensboro Hill, Queens : 1\n",
      "Ravenswood, Queens : 1\n",
      "Bellaire, Queens : 1\n",
      "New Brighton, Staten Island : 1\n",
      "New Dorp, Staten Island : 1\n",
      "Tompkinsville, Staten Island : 1\n",
      "Ditmas Park, Brooklyn : 2\n",
      "Park Hill, Staten Island : 1\n",
      "Grant City, Staten Island : 1\n",
      "Carnegie Hill, Manhattan : 3\n",
      "Civic Center, Manhattan : 1\n",
      "Jamaica Hills, Queens : 4\n",
      "Concourse Village, Bronx : 1\n",
      "Sutton Place, Manhattan : 3\n",
      "Turtle Bay, Manhattan : 1\n",
      "Sunnyside Gardens, Queens : 1\n",
      "Blissville, Queens : 1\n",
      "Broadway Junction, Brooklyn : 1\n",
      "Erasmus, Brooklyn : 1\n",
      "Queensbridge, Queens : 2\n",
      "Fox Hills, Staten Island : 1\n",
      "Completed constructing the Indian cuisine restaurants data set\n"
     ]
    }
   ],
   "source": [
    "# prepare neighborhood list that contains indian resturants\n",
    "column_names=['Borough', 'Neighborhood', 'ID','Name']\n",
    "indian_rest_ny=pd.DataFrame(columns=column_names)\n",
    "\n",
    "print('Indian restaurants in\\n---------------------')\n",
    "       \n",
    "for row in df_ny.values.tolist():\n",
    "    Borough, Neighborhood, Latitude, Longitude=row\n",
    "    #venues = get_venues(Latitude,Longitude)\n",
    "    \n",
    "    indian_resturants=venues[venues['Category']=='Indian Restaurant']\n",
    "    if len(indian_resturants) > 0:\n",
    "        print(Neighborhood+', '+Borough+' : '+str(len(indian_resturants)))\n",
    "    for resturant_detail in indian_resturants.values.tolist():\n",
    "        id, name , category=resturant_detail\n",
    "        indian_rest_ny = indian_rest_ny.append({'Borough': Borough,\n",
    "                                                'Neighborhood': Neighborhood, \n",
    "                                                'ID': id,\n",
    "                                                'Name' : name\n",
    "                                               }, ignore_index=True)\n",
    "indian_rest_ny.to_csv('indian_rest_ny.csv', index=False)\n",
    "print('Completed constructing the Indian cuisine restaurants data set')"
   ]
  },
  {
   "cell_type": "code",
   "execution_count": 16,
   "metadata": {},
   "outputs": [
    {
     "data": {
      "text/html": [
       "<div>\n",
       "<style scoped>\n",
       "    .dataframe tbody tr th:only-of-type {\n",
       "        vertical-align: middle;\n",
       "    }\n",
       "\n",
       "    .dataframe tbody tr th {\n",
       "        vertical-align: top;\n",
       "    }\n",
       "\n",
       "    .dataframe thead th {\n",
       "        text-align: right;\n",
       "    }\n",
       "</style>\n",
       "<table border=\"1\" class=\"dataframe\">\n",
       "  <thead>\n",
       "    <tr style=\"text-align: right;\">\n",
       "      <th></th>\n",
       "      <th>Borough</th>\n",
       "      <th>Neighborhood</th>\n",
       "      <th>ID</th>\n",
       "      <th>Name</th>\n",
       "    </tr>\n",
       "  </thead>\n",
       "  <tbody>\n",
       "    <tr>\n",
       "      <th>0</th>\n",
       "      <td>Bronx</td>\n",
       "      <td>Woodlawn</td>\n",
       "      <td>4c0448d9310fc9b6bf1dc761</td>\n",
       "      <td>Curry Spot</td>\n",
       "    </tr>\n",
       "    <tr>\n",
       "      <th>1</th>\n",
       "      <td>Bronx</td>\n",
       "      <td>Parkchester</td>\n",
       "      <td>4c194631838020a13e78e561</td>\n",
       "      <td>Melanies Roti Bar And Grill</td>\n",
       "    </tr>\n",
       "    <tr>\n",
       "      <th>2</th>\n",
       "      <td>Bronx</td>\n",
       "      <td>Spuyten Duyvil</td>\n",
       "      <td>4c04544df423a593ac83d116</td>\n",
       "      <td>Cumin Indian Cuisine</td>\n",
       "    </tr>\n",
       "    <tr>\n",
       "      <th>3</th>\n",
       "      <td>Bronx</td>\n",
       "      <td>Concourse</td>\n",
       "      <td>551b7f75498e86c00a0ed2e1</td>\n",
       "      <td>Hungry Bird</td>\n",
       "    </tr>\n",
       "    <tr>\n",
       "      <th>4</th>\n",
       "      <td>Bronx</td>\n",
       "      <td>Unionport</td>\n",
       "      <td>4c194631838020a13e78e561</td>\n",
       "      <td>Melanies Roti Bar And Grill</td>\n",
       "    </tr>\n",
       "  </tbody>\n",
       "</table>\n",
       "</div>"
      ],
      "text/plain": [
       "  Borough    Neighborhood                        ID  \\\n",
       "0   Bronx        Woodlawn  4c0448d9310fc9b6bf1dc761   \n",
       "1   Bronx     Parkchester  4c194631838020a13e78e561   \n",
       "2   Bronx  Spuyten Duyvil  4c04544df423a593ac83d116   \n",
       "3   Bronx       Concourse  551b7f75498e86c00a0ed2e1   \n",
       "4   Bronx       Unionport  4c194631838020a13e78e561   \n",
       "\n",
       "                          Name  \n",
       "0                   Curry Spot  \n",
       "1  Melanies Roti Bar And Grill  \n",
       "2         Cumin Indian Cuisine  \n",
       "3                  Hungry Bird  \n",
       "4  Melanies Roti Bar And Grill  "
      ]
     },
     "execution_count": 16,
     "metadata": {},
     "output_type": "execute_result"
    }
   ],
   "source": [
    "column_names=['Borough', 'Neighborhood', 'ID','Name']\n",
    "#indian_rest_ny=pd.DataFrame(columns=column_names)\n",
    "indian_rest_ny = pd.read_csv('indian_rest_ny.csv')\n",
    "indian_rest_ny.head()"
   ]
  },
  {
   "cell_type": "code",
   "execution_count": 15,
   "metadata": {},
   "outputs": [
    {
     "data": {
      "text/html": [
       "<div>\n",
       "<style scoped>\n",
       "    .dataframe tbody tr th:only-of-type {\n",
       "        vertical-align: middle;\n",
       "    }\n",
       "\n",
       "    .dataframe tbody tr th {\n",
       "        vertical-align: top;\n",
       "    }\n",
       "\n",
       "    .dataframe thead th {\n",
       "        text-align: right;\n",
       "    }\n",
       "</style>\n",
       "<table border=\"1\" class=\"dataframe\">\n",
       "  <thead>\n",
       "    <tr style=\"text-align: right;\">\n",
       "      <th></th>\n",
       "      <th>Borough</th>\n",
       "      <th>Neighborhood</th>\n",
       "      <th>ID</th>\n",
       "      <th>Name</th>\n",
       "    </tr>\n",
       "  </thead>\n",
       "  <tbody>\n",
       "    <tr>\n",
       "      <th>0</th>\n",
       "      <td>Bronx</td>\n",
       "      <td>Woodlawn</td>\n",
       "      <td>4c0448d9310fc9b6bf1dc761</td>\n",
       "      <td>Curry Spot</td>\n",
       "    </tr>\n",
       "    <tr>\n",
       "      <th>1</th>\n",
       "      <td>Bronx</td>\n",
       "      <td>Parkchester</td>\n",
       "      <td>4c194631838020a13e78e561</td>\n",
       "      <td>Melanies Roti Bar And Grill</td>\n",
       "    </tr>\n",
       "    <tr>\n",
       "      <th>2</th>\n",
       "      <td>Bronx</td>\n",
       "      <td>Spuyten Duyvil</td>\n",
       "      <td>4c04544df423a593ac83d116</td>\n",
       "      <td>Cumin Indian Cuisine</td>\n",
       "    </tr>\n",
       "    <tr>\n",
       "      <th>3</th>\n",
       "      <td>Bronx</td>\n",
       "      <td>Concourse</td>\n",
       "      <td>551b7f75498e86c00a0ed2e1</td>\n",
       "      <td>Hungry Bird</td>\n",
       "    </tr>\n",
       "    <tr>\n",
       "      <th>4</th>\n",
       "      <td>Bronx</td>\n",
       "      <td>Unionport</td>\n",
       "      <td>4c194631838020a13e78e561</td>\n",
       "      <td>Melanies Roti Bar And Grill</td>\n",
       "    </tr>\n",
       "  </tbody>\n",
       "</table>\n",
       "</div>"
      ],
      "text/plain": [
       "  Borough    Neighborhood                        ID  \\\n",
       "0   Bronx        Woodlawn  4c0448d9310fc9b6bf1dc761   \n",
       "1   Bronx     Parkchester  4c194631838020a13e78e561   \n",
       "2   Bronx  Spuyten Duyvil  4c04544df423a593ac83d116   \n",
       "3   Bronx       Concourse  551b7f75498e86c00a0ed2e1   \n",
       "4   Bronx       Unionport  4c194631838020a13e78e561   \n",
       "\n",
       "                          Name  \n",
       "0                   Curry Spot  \n",
       "1  Melanies Roti Bar And Grill  \n",
       "2         Cumin Indian Cuisine  \n",
       "3                  Hungry Bird  \n",
       "4  Melanies Roti Bar And Grill  "
      ]
     },
     "execution_count": 15,
     "metadata": {},
     "output_type": "execute_result"
    }
   ],
   "source": [
    "indian_rest_ny.head()"
   ]
  },
  {
   "cell_type": "code",
   "execution_count": 17,
   "metadata": {},
   "outputs": [
    {
     "data": {
      "text/plain": [
       "(142, 4)"
      ]
     },
     "execution_count": 17,
     "metadata": {},
     "output_type": "execute_result"
    }
   ],
   "source": [
    "indian_rest_ny.shape"
   ]
  },
  {
   "cell_type": "markdown",
   "metadata": {},
   "source": [
    "Using a bar chart visualize the number of restaurants which serves Indian cuisine for each and every borough in New York city."
   ]
  },
  {
   "cell_type": "code",
   "execution_count": 18,
   "metadata": {},
   "outputs": [
    {
     "data": {
      "image/png": "[encoded data removed]",
      "text/plain": [
       "<Figure size 540x540 with 1 Axes>"
      ]
     },
     "metadata": {
      "needs_background": "light"
     },
     "output_type": "display_data"
    }
   ],
   "source": [
    "\n",
    "plt.figure(figsize=(6,6), dpi = 90)\n",
    "# title\n",
    "plt.title('Number of Indian Resturants for each Borough in New York City')\n",
    "#On x-axis\n",
    "plt.xlabel('Borough', fontsize = 15)\n",
    "#On y-axis\n",
    "plt.ylabel('No.of Indian Resturants', fontsize=15)\n",
    "#giving a bar plot\n",
    "indian_rest_ny.groupby('Borough')['ID'].count().plot(kind='bar', color='#12EA92')\n",
    "#legend\n",
    "plt.legend()\n",
    "#displays the plot\n",
    "plt.show()"
   ]
  },
  {
   "cell_type": "markdown",
   "metadata": {},
   "source": [
    "Do visualize the same for Top 15 neighborhoods based on the number of Indian cuisine restaurants in New York city."
   ]
  },
  {
   "cell_type": "code",
   "execution_count": 19,
   "metadata": {},
   "outputs": [
    {
     "data": {
      "image/png": "[encoded data removed]",
      "text/plain": [
       "<Figure size 630x540 with 1 Axes>"
      ]
     },
     "metadata": {
      "needs_background": "light"
     },
     "output_type": "display_data"
    }
   ],
   "source": [
    "plt.figure(figsize=(7,6), dpi = 90)\n",
    "# title\n",
    "plt.title('Top 15 Neighborhoods based on the number of restaurants which serves Indian cuisine')\n",
    "#On x-axis\n",
    "plt.xlabel('Neighborhood', fontsize = 15)\n",
    "#On y-axis\n",
    "plt.ylabel('No.of Indian Resturants', fontsize=15)\n",
    "#giving a bar plot\n",
    "indian_rest_ny.groupby('Neighborhood')['ID'].count().nlargest(15).plot(kind='bar', color='#12EA92')\n",
    "#legend\n",
    "plt.legend()\n",
    "#displays the plot\n",
    "plt.show()"
   ]
  },
  {
   "cell_type": "markdown",
   "metadata": {},
   "source": [
    "Seems that Floral Park has the highest number of Indian restaurant in New York city."
   ]
  },
  {
   "cell_type": "code",
   "execution_count": 20,
   "metadata": {},
   "outputs": [
    {
     "data": {
      "text/html": [
       "<div>\n",
       "<style scoped>\n",
       "    .dataframe tbody tr th:only-of-type {\n",
       "        vertical-align: middle;\n",
       "    }\n",
       "\n",
       "    .dataframe tbody tr th {\n",
       "        vertical-align: top;\n",
       "    }\n",
       "\n",
       "    .dataframe thead th {\n",
       "        text-align: right;\n",
       "    }\n",
       "</style>\n",
       "<table border=\"1\" class=\"dataframe\">\n",
       "  <thead>\n",
       "    <tr style=\"text-align: right;\">\n",
       "      <th></th>\n",
       "      <th>Borough</th>\n",
       "      <th>Neighborhood</th>\n",
       "      <th>ID</th>\n",
       "      <th>Name</th>\n",
       "    </tr>\n",
       "  </thead>\n",
       "  <tbody>\n",
       "    <tr>\n",
       "      <th>101</th>\n",
       "      <td>Queens</td>\n",
       "      <td>Floral Park</td>\n",
       "      <td>4e4e3e22bd4101d0d7a5c2d1</td>\n",
       "      <td>Kerala Kitchen</td>\n",
       "    </tr>\n",
       "    <tr>\n",
       "      <th>102</th>\n",
       "      <td>Queens</td>\n",
       "      <td>Floral Park</td>\n",
       "      <td>527ffc0811d2d329d5e49abd</td>\n",
       "      <td>Jackson Diner</td>\n",
       "    </tr>\n",
       "    <tr>\n",
       "      <th>103</th>\n",
       "      <td>Queens</td>\n",
       "      <td>Floral Park</td>\n",
       "      <td>4b647b56f964a520c4b62ae3</td>\n",
       "      <td>Usha Foods &amp; Usha Sweets</td>\n",
       "    </tr>\n",
       "    <tr>\n",
       "      <th>104</th>\n",
       "      <td>Queens</td>\n",
       "      <td>Floral Park</td>\n",
       "      <td>4b787c49f964a5209cd12ee3</td>\n",
       "      <td>Santoor Indian Restaurant</td>\n",
       "    </tr>\n",
       "    <tr>\n",
       "      <th>105</th>\n",
       "      <td>Queens</td>\n",
       "      <td>Floral Park</td>\n",
       "      <td>4c0c01e0bbc676b00d6b4cd5</td>\n",
       "      <td>Mumbai Xpress</td>\n",
       "    </tr>\n",
       "    <tr>\n",
       "      <th>106</th>\n",
       "      <td>Queens</td>\n",
       "      <td>Floral Park</td>\n",
       "      <td>4c76ff35a5676dcb72671721</td>\n",
       "      <td>Flavor Of India</td>\n",
       "    </tr>\n",
       "    <tr>\n",
       "      <th>107</th>\n",
       "      <td>Queens</td>\n",
       "      <td>Floral Park</td>\n",
       "      <td>4df0f39dd4c04d0392c853ea</td>\n",
       "      <td>Sagar Chinese</td>\n",
       "    </tr>\n",
       "    <tr>\n",
       "      <th>108</th>\n",
       "      <td>Queens</td>\n",
       "      <td>Floral Park</td>\n",
       "      <td>4e6bfe1c7d8b2c711b17bbe5</td>\n",
       "      <td>Surya sweets and snacks</td>\n",
       "    </tr>\n",
       "  </tbody>\n",
       "</table>\n",
       "</div>"
      ],
      "text/plain": [
       "    Borough Neighborhood                        ID                       Name\n",
       "101  Queens  Floral Park  4e4e3e22bd4101d0d7a5c2d1             Kerala Kitchen\n",
       "102  Queens  Floral Park  527ffc0811d2d329d5e49abd              Jackson Diner\n",
       "103  Queens  Floral Park  4b647b56f964a520c4b62ae3   Usha Foods & Usha Sweets\n",
       "104  Queens  Floral Park  4b787c49f964a5209cd12ee3  Santoor Indian Restaurant\n",
       "105  Queens  Floral Park  4c0c01e0bbc676b00d6b4cd5              Mumbai Xpress\n",
       "106  Queens  Floral Park  4c76ff35a5676dcb72671721            Flavor Of India\n",
       "107  Queens  Floral Park  4df0f39dd4c04d0392c853ea              Sagar Chinese\n",
       "108  Queens  Floral Park  4e6bfe1c7d8b2c711b17bbe5    Surya sweets and snacks"
      ]
     },
     "execution_count": 20,
     "metadata": {},
     "output_type": "execute_result"
    }
   ],
   "source": [
    "indian_rest_ny[indian_rest_ny['Neighborhood']=='Floral Park']"
   ]
  },
  {
   "cell_type": "markdown",
   "metadata": {},
   "source": [
    "Acquire the detail about all the restaurants from the Foursquare API"
   ]
  },
  {
   "cell_type": "code",
   "execution_count": 21,
   "metadata": {},
   "outputs": [
    {
     "name": "stdout",
     "output_type": "stream",
     "text": [
      "['Bronx', 'Woodlawn', '4c0448d9310fc9b6bf1dc761', 'Curry Spot']\n",
      "https://api.foursquare.com/v2/venues/4c0448d9310fc9b6bf1dc761?&client_id=CROR0TLNBZEMVIFU11M2MWBAWHHWPCBJ1UCTEPWX5UZ1NH0U&client_secret=1UHFCYHNBUCCM2VYDH5VYLWC5VQJ44H53JD1LKY11JMCLW1K&v=20180605\n",
      "( 1 / 142 ) processed\n",
      "https://api.foursquare.com/v2/venues/4c194631838020a13e78e561?&client_id=CROR0TLNBZEMVIFU11M2MWBAWHHWPCBJ1UCTEPWX5UZ1NH0U&client_secret=1UHFCYHNBUCCM2VYDH5VYLWC5VQJ44H53JD1LKY11JMCLW1K&v=20180605\n",
      "( 2 / 142 ) processed\n",
      "https://api.foursquare.com/v2/venues/4c04544df423a593ac83d116?&client_id=CROR0TLNBZEMVIFU11M2MWBAWHHWPCBJ1UCTEPWX5UZ1NH0U&client_secret=1UHFCYHNBUCCM2VYDH5VYLWC5VQJ44H53JD1LKY11JMCLW1K&v=20180605\n",
      "( 3 / 142 ) processed\n",
      "https://api.foursquare.com/v2/venues/551b7f75498e86c00a0ed2e1?&client_id=CROR0TLNBZEMVIFU11M2MWBAWHHWPCBJ1UCTEPWX5UZ1NH0U&client_secret=1UHFCYHNBUCCM2VYDH5VYLWC5VQJ44H53JD1LKY11JMCLW1K&v=20180605\n",
      "( 4 / 142 ) processed\n",
      "https://api.foursquare.com/v2/venues/4c194631838020a13e78e561?&client_id=CROR0TLNBZEMVIFU11M2MWBAWHHWPCBJ1UCTEPWX5UZ1NH0U&client_secret=1UHFCYHNBUCCM2VYDH5VYLWC5VQJ44H53JD1LKY11JMCLW1K&v=20180605\n",
      "( 5 / 142 ) processed\n",
      "https://api.foursquare.com/v2/venues/4b5a4dc8f964a520a2bb28e3?&client_id=CROR0TLNBZEMVIFU11M2MWBAWHHWPCBJ1UCTEPWX5UZ1NH0U&client_secret=1UHFCYHNBUCCM2VYDH5VYLWC5VQJ44H53JD1LKY11JMCLW1K&v=20180605\n",
      "( 6 / 142 ) processed\n",
      "https://api.foursquare.com/v2/venues/545835a1498e820edc6f636f?&client_id=CROR0TLNBZEMVIFU11M2MWBAWHHWPCBJ1UCTEPWX5UZ1NH0U&client_secret=1UHFCYHNBUCCM2VYDH5VYLWC5VQJ44H53JD1LKY11JMCLW1K&v=20180605\n",
      "( 7 / 142 ) processed\n",
      "https://api.foursquare.com/v2/venues/4af0d31bf964a5207ddf21e3?&client_id=CROR0TLNBZEMVIFU11M2MWBAWHHWPCBJ1UCTEPWX5UZ1NH0U&client_secret=1UHFCYHNBUCCM2VYDH5VYLWC5VQJ44H53JD1LKY11JMCLW1K&v=20180605\n",
      "( 8 / 142 ) processed\n",
      "https://api.foursquare.com/v2/venues/52213c4211d295d4c57a607c?&client_id=CROR0TLNBZEMVIFU11M2MWBAWHHWPCBJ1UCTEPWX5UZ1NH0U&client_secret=1UHFCYHNBUCCM2VYDH5VYLWC5VQJ44H53JD1LKY11JMCLW1K&v=20180605\n",
      "( 9 / 142 ) processed\n",
      "https://api.foursquare.com/v2/venues/564d283d498e6e851df79d87?&client_id=CROR0TLNBZEMVIFU11M2MWBAWHHWPCBJ1UCTEPWX5UZ1NH0U&client_secret=1UHFCYHNBUCCM2VYDH5VYLWC5VQJ44H53JD1LKY11JMCLW1K&v=20180605\n",
      "( 10 / 142 ) processed\n",
      "https://api.foursquare.com/v2/venues/512a9ea9e4b004fb8eeb84e5?&client_id=CROR0TLNBZEMVIFU11M2MWBAWHHWPCBJ1UCTEPWX5UZ1NH0U&client_secret=1UHFCYHNBUCCM2VYDH5VYLWC5VQJ44H53JD1LKY11JMCLW1K&v=20180605\n",
      "( 11 / 142 ) processed\n",
      "https://api.foursquare.com/v2/venues/4db0f4371e729fcc56497f20?&client_id=CROR0TLNBZEMVIFU11M2MWBAWHHWPCBJ1UCTEPWX5UZ1NH0U&client_secret=1UHFCYHNBUCCM2VYDH5VYLWC5VQJ44H53JD1LKY11JMCLW1K&v=20180605\n",
      "( 12 / 142 ) processed\n",
      "https://api.foursquare.com/v2/venues/4b718914f964a520c04b2de3?&client_id=CROR0TLNBZEMVIFU11M2MWBAWHHWPCBJ1UCTEPWX5UZ1NH0U&client_secret=1UHFCYHNBUCCM2VYDH5VYLWC5VQJ44H53JD1LKY11JMCLW1K&v=20180605\n",
      "( 13 / 142 ) processed\n",
      "https://api.foursquare.com/v2/venues/52f18573498ec2c34e830ffd?&client_id=CROR0TLNBZEMVIFU11M2MWBAWHHWPCBJ1UCTEPWX5UZ1NH0U&client_secret=1UHFCYHNBUCCM2VYDH5VYLWC5VQJ44H53JD1LKY11JMCLW1K&v=20180605\n",
      "( 14 / 142 ) processed\n",
      "https://api.foursquare.com/v2/venues/57596dad498e732300496b23?&client_id=CROR0TLNBZEMVIFU11M2MWBAWHHWPCBJ1UCTEPWX5UZ1NH0U&client_secret=1UHFCYHNBUCCM2VYDH5VYLWC5VQJ44H53JD1LKY11JMCLW1K&v=20180605\n",
      "( 15 / 142 ) processed\n",
      "https://api.foursquare.com/v2/venues/568d3902498e619efcbc3f58?&client_id=CROR0TLNBZEMVIFU11M2MWBAWHHWPCBJ1UCTEPWX5UZ1NH0U&client_secret=1UHFCYHNBUCCM2VYDH5VYLWC5VQJ44H53JD1LKY11JMCLW1K&v=20180605\n",
      "( 16 / 142 ) processed\n",
      "https://api.foursquare.com/v2/venues/57596dad498e732300496b23?&client_id=CROR0TLNBZEMVIFU11M2MWBAWHHWPCBJ1UCTEPWX5UZ1NH0U&client_secret=1UHFCYHNBUCCM2VYDH5VYLWC5VQJ44H53JD1LKY11JMCLW1K&v=20180605\n",
      "( 17 / 142 ) processed\n",
      "https://api.foursquare.com/v2/venues/4bb93b70cf2fc9b6fe64a002?&client_id=CROR0TLNBZEMVIFU11M2MWBAWHHWPCBJ1UCTEPWX5UZ1NH0U&client_secret=1UHFCYHNBUCCM2VYDH5VYLWC5VQJ44H53JD1LKY11JMCLW1K&v=20180605\n",
      "( 18 / 142 ) processed\n",
      "https://api.foursquare.com/v2/venues/5539753f498edbace4746b67?&client_id=CROR0TLNBZEMVIFU11M2MWBAWHHWPCBJ1UCTEPWX5UZ1NH0U&client_secret=1UHFCYHNBUCCM2VYDH5VYLWC5VQJ44H53JD1LKY11JMCLW1K&v=20180605\n",
      "( 19 / 142 ) processed\n",
      "https://api.foursquare.com/v2/venues/4f6cae2ee4b0d4a5afcef5c0?&client_id=CROR0TLNBZEMVIFU11M2MWBAWHHWPCBJ1UCTEPWX5UZ1NH0U&client_secret=1UHFCYHNBUCCM2VYDH5VYLWC5VQJ44H53JD1LKY11JMCLW1K&v=20180605\n",
      "( 20 / 142 ) processed\n",
      "https://api.foursquare.com/v2/venues/519ff6c8498e1300ddcbd45c?&client_id=CROR0TLNBZEMVIFU11M2MWBAWHHWPCBJ1UCTEPWX5UZ1NH0U&client_secret=1UHFCYHNBUCCM2VYDH5VYLWC5VQJ44H53JD1LKY11JMCLW1K&v=20180605\n",
      "( 21 / 142 ) processed\n",
      "https://api.foursquare.com/v2/venues/4db0f4371e729fcc56497f20?&client_id=CROR0TLNBZEMVIFU11M2MWBAWHHWPCBJ1UCTEPWX5UZ1NH0U&client_secret=1UHFCYHNBUCCM2VYDH5VYLWC5VQJ44H53JD1LKY11JMCLW1K&v=20180605\n",
      "( 22 / 142 ) processed\n",
      "https://api.foursquare.com/v2/venues/5631511b498e3d6d7e0a4df0?&client_id=CROR0TLNBZEMVIFU11M2MWBAWHHWPCBJ1UCTEPWX5UZ1NH0U&client_secret=1UHFCYHNBUCCM2VYDH5VYLWC5VQJ44H53JD1LKY11JMCLW1K&v=20180605\n",
      "( 23 / 142 ) processed\n",
      "https://api.foursquare.com/v2/venues/5631511b498e3d6d7e0a4df0?&client_id=CROR0TLNBZEMVIFU11M2MWBAWHHWPCBJ1UCTEPWX5UZ1NH0U&client_secret=1UHFCYHNBUCCM2VYDH5VYLWC5VQJ44H53JD1LKY11JMCLW1K&v=20180605\n",
      "( 24 / 142 ) processed\n",
      "https://api.foursquare.com/v2/venues/545835a1498e820edc6f636f?&client_id=CROR0TLNBZEMVIFU11M2MWBAWHHWPCBJ1UCTEPWX5UZ1NH0U&client_secret=1UHFCYHNBUCCM2VYDH5VYLWC5VQJ44H53JD1LKY11JMCLW1K&v=20180605\n",
      "( 25 / 142 ) processed\n",
      "https://api.foursquare.com/v2/venues/4ae7876ef964a5201eac21e3?&client_id=CROR0TLNBZEMVIFU11M2MWBAWHHWPCBJ1UCTEPWX5UZ1NH0U&client_secret=1UHFCYHNBUCCM2VYDH5VYLWC5VQJ44H53JD1LKY11JMCLW1K&v=20180605\n",
      "( 26 / 142 ) processed\n",
      "https://api.foursquare.com/v2/venues/54c2bd96498eaf5142e3fe92?&client_id=CROR0TLNBZEMVIFU11M2MWBAWHHWPCBJ1UCTEPWX5UZ1NH0U&client_secret=1UHFCYHNBUCCM2VYDH5VYLWC5VQJ44H53JD1LKY11JMCLW1K&v=20180605\n",
      "( 27 / 142 ) processed\n",
      "https://api.foursquare.com/v2/venues/5914ff32b23dfa207eca38de?&client_id=CROR0TLNBZEMVIFU11M2MWBAWHHWPCBJ1UCTEPWX5UZ1NH0U&client_secret=1UHFCYHNBUCCM2VYDH5VYLWC5VQJ44H53JD1LKY11JMCLW1K&v=20180605\n",
      "( 28 / 142 ) processed\n",
      "https://api.foursquare.com/v2/venues/529d382a11d2dd5ef107e641?&client_id=CROR0TLNBZEMVIFU11M2MWBAWHHWPCBJ1UCTEPWX5UZ1NH0U&client_secret=1UHFCYHNBUCCM2VYDH5VYLWC5VQJ44H53JD1LKY11JMCLW1K&v=20180605\n",
      "( 29 / 142 ) processed\n",
      "https://api.foursquare.com/v2/venues/54c2bd96498eaf5142e3fe92?&client_id=CROR0TLNBZEMVIFU11M2MWBAWHHWPCBJ1UCTEPWX5UZ1NH0U&client_secret=1UHFCYHNBUCCM2VYDH5VYLWC5VQJ44H53JD1LKY11JMCLW1K&v=20180605\n",
      "( 30 / 142 ) processed\n",
      "https://api.foursquare.com/v2/venues/56d87f3d498ee215abee5724?&client_id=CROR0TLNBZEMVIFU11M2MWBAWHHWPCBJ1UCTEPWX5UZ1NH0U&client_secret=1UHFCYHNBUCCM2VYDH5VYLWC5VQJ44H53JD1LKY11JMCLW1K&v=20180605\n",
      "( 31 / 142 ) processed\n",
      "https://api.foursquare.com/v2/venues/54c2bd96498eaf5142e3fe92?&client_id=CROR0TLNBZEMVIFU11M2MWBAWHHWPCBJ1UCTEPWX5UZ1NH0U&client_secret=1UHFCYHNBUCCM2VYDH5VYLWC5VQJ44H53JD1LKY11JMCLW1K&v=20180605\n",
      "( 32 / 142 ) processed\n",
      "https://api.foursquare.com/v2/venues/519fe6f5498e30595d370c44?&client_id=CROR0TLNBZEMVIFU11M2MWBAWHHWPCBJ1UCTEPWX5UZ1NH0U&client_secret=1UHFCYHNBUCCM2VYDH5VYLWC5VQJ44H53JD1LKY11JMCLW1K&v=20180605\n",
      "( 33 / 142 ) processed\n",
      "https://api.foursquare.com/v2/venues/5272ca4511d22488f6895caf?&client_id=CROR0TLNBZEMVIFU11M2MWBAWHHWPCBJ1UCTEPWX5UZ1NH0U&client_secret=1UHFCYHNBUCCM2VYDH5VYLWC5VQJ44H53JD1LKY11JMCLW1K&v=20180605\n",
      "( 34 / 142 ) processed\n",
      "https://api.foursquare.com/v2/venues/5b0c8e2d2f97ec002c67a428?&client_id=CROR0TLNBZEMVIFU11M2MWBAWHHWPCBJ1UCTEPWX5UZ1NH0U&client_secret=1UHFCYHNBUCCM2VYDH5VYLWC5VQJ44H53JD1LKY11JMCLW1K&v=20180605\n",
      "( 35 / 142 ) processed\n",
      "https://api.foursquare.com/v2/venues/56ed855a498ef3bb022352c3?&client_id=CROR0TLNBZEMVIFU11M2MWBAWHHWPCBJ1UCTEPWX5UZ1NH0U&client_secret=1UHFCYHNBUCCM2VYDH5VYLWC5VQJ44H53JD1LKY11JMCLW1K&v=20180605\n",
      "( 36 / 142 ) processed\n",
      "https://api.foursquare.com/v2/venues/4fe4fb50c2eee335e4fea69d?&client_id=CROR0TLNBZEMVIFU11M2MWBAWHHWPCBJ1UCTEPWX5UZ1NH0U&client_secret=1UHFCYHNBUCCM2VYDH5VYLWC5VQJ44H53JD1LKY11JMCLW1K&v=20180605\n",
      "( 37 / 142 ) processed\n",
      "https://api.foursquare.com/v2/venues/591890f43abcaf1ddca66e85?&client_id=CROR0TLNBZEMVIFU11M2MWBAWHHWPCBJ1UCTEPWX5UZ1NH0U&client_secret=1UHFCYHNBUCCM2VYDH5VYLWC5VQJ44H53JD1LKY11JMCLW1K&v=20180605\n",
      "( 38 / 142 ) processed\n",
      "https://api.foursquare.com/v2/venues/42489a80f964a5208b201fe3?&client_id=CROR0TLNBZEMVIFU11M2MWBAWHHWPCBJ1UCTEPWX5UZ1NH0U&client_secret=1UHFCYHNBUCCM2VYDH5VYLWC5VQJ44H53JD1LKY11JMCLW1K&v=20180605\n",
      "( 39 / 142 ) processed\n",
      "https://api.foursquare.com/v2/venues/4b4aab62f964a520978c26e3?&client_id=CROR0TLNBZEMVIFU11M2MWBAWHHWPCBJ1UCTEPWX5UZ1NH0U&client_secret=1UHFCYHNBUCCM2VYDH5VYLWC5VQJ44H53JD1LKY11JMCLW1K&v=20180605\n",
      "( 40 / 142 ) processed\n",
      "https://api.foursquare.com/v2/venues/5b5a2c9e66f3cd002ca0aab5?&client_id=CROR0TLNBZEMVIFU11M2MWBAWHHWPCBJ1UCTEPWX5UZ1NH0U&client_secret=1UHFCYHNBUCCM2VYDH5VYLWC5VQJ44H53JD1LKY11JMCLW1K&v=20180605\n",
      "( 41 / 142 ) processed\n",
      "https://api.foursquare.com/v2/venues/4bbb9dbded7776b0e1ad3e51?&client_id=CROR0TLNBZEMVIFU11M2MWBAWHHWPCBJ1UCTEPWX5UZ1NH0U&client_secret=1UHFCYHNBUCCM2VYDH5VYLWC5VQJ44H53JD1LKY11JMCLW1K&v=20180605\n",
      "( 42 / 142 ) processed\n",
      "https://api.foursquare.com/v2/venues/5b5a2c9e66f3cd002ca0aab5?&client_id=CROR0TLNBZEMVIFU11M2MWBAWHHWPCBJ1UCTEPWX5UZ1NH0U&client_secret=1UHFCYHNBUCCM2VYDH5VYLWC5VQJ44H53JD1LKY11JMCLW1K&v=20180605\n",
      "( 43 / 142 ) processed\n",
      "https://api.foursquare.com/v2/venues/591794df2be42556988e4a8e?&client_id=CROR0TLNBZEMVIFU11M2MWBAWHHWPCBJ1UCTEPWX5UZ1NH0U&client_secret=1UHFCYHNBUCCM2VYDH5VYLWC5VQJ44H53JD1LKY11JMCLW1K&v=20180605\n",
      "( 44 / 142 ) processed\n",
      "https://api.foursquare.com/v2/venues/49c5ad0af964a5201b571fe3?&client_id=CROR0TLNBZEMVIFU11M2MWBAWHHWPCBJ1UCTEPWX5UZ1NH0U&client_secret=1UHFCYHNBUCCM2VYDH5VYLWC5VQJ44H53JD1LKY11JMCLW1K&v=20180605\n",
      "( 45 / 142 ) processed\n",
      "https://api.foursquare.com/v2/venues/538ba1f2498e279098e4210a?&client_id=CROR0TLNBZEMVIFU11M2MWBAWHHWPCBJ1UCTEPWX5UZ1NH0U&client_secret=1UHFCYHNBUCCM2VYDH5VYLWC5VQJ44H53JD1LKY11JMCLW1K&v=20180605\n",
      "( 46 / 142 ) processed\n",
      "https://api.foursquare.com/v2/venues/49c5ad0af964a5201b571fe3?&client_id=CROR0TLNBZEMVIFU11M2MWBAWHHWPCBJ1UCTEPWX5UZ1NH0U&client_secret=1UHFCYHNBUCCM2VYDH5VYLWC5VQJ44H53JD1LKY11JMCLW1K&v=20180605\n",
      "( 47 / 142 ) processed\n",
      "https://api.foursquare.com/v2/venues/4a70a75bf964a52016d81fe3?&client_id=CROR0TLNBZEMVIFU11M2MWBAWHHWPCBJ1UCTEPWX5UZ1NH0U&client_secret=1UHFCYHNBUCCM2VYDH5VYLWC5VQJ44H53JD1LKY11JMCLW1K&v=20180605\n",
      "( 48 / 142 ) processed\n",
      "https://api.foursquare.com/v2/venues/523b2b42498e1dfabcc8ab15?&client_id=CROR0TLNBZEMVIFU11M2MWBAWHHWPCBJ1UCTEPWX5UZ1NH0U&client_secret=1UHFCYHNBUCCM2VYDH5VYLWC5VQJ44H53JD1LKY11JMCLW1K&v=20180605\n",
      "( 49 / 142 ) processed\n",
      "https://api.foursquare.com/v2/venues/57f7cbbe498edf8f07c7ba83?&client_id=CROR0TLNBZEMVIFU11M2MWBAWHHWPCBJ1UCTEPWX5UZ1NH0U&client_secret=1UHFCYHNBUCCM2VYDH5VYLWC5VQJ44H53JD1LKY11JMCLW1K&v=20180605\n",
      "( 50 / 142 ) processed\n",
      "https://api.foursquare.com/v2/venues/43d537d0f964a520402e1fe3?&client_id=CROR0TLNBZEMVIFU11M2MWBAWHHWPCBJ1UCTEPWX5UZ1NH0U&client_secret=1UHFCYHNBUCCM2VYDH5VYLWC5VQJ44H53JD1LKY11JMCLW1K&v=20180605\n",
      "( 51 / 142 ) processed\n",
      "https://api.foursquare.com/v2/venues/4a12eb1ff964a52099771fe3?&client_id=CROR0TLNBZEMVIFU11M2MWBAWHHWPCBJ1UCTEPWX5UZ1NH0U&client_secret=1UHFCYHNBUCCM2VYDH5VYLWC5VQJ44H53JD1LKY11JMCLW1K&v=20180605\n",
      "( 52 / 142 ) processed\n",
      "https://api.foursquare.com/v2/venues/5d8d9c5e0a2ffc0008f28855?&client_id=CROR0TLNBZEMVIFU11M2MWBAWHHWPCBJ1UCTEPWX5UZ1NH0U&client_secret=1UHFCYHNBUCCM2VYDH5VYLWC5VQJ44H53JD1LKY11JMCLW1K&v=20180605\n",
      "( 53 / 142 ) processed\n",
      "https://api.foursquare.com/v2/venues/4aa56c81f964a5204e4820e3?&client_id=CROR0TLNBZEMVIFU11M2MWBAWHHWPCBJ1UCTEPWX5UZ1NH0U&client_secret=1UHFCYHNBUCCM2VYDH5VYLWC5VQJ44H53JD1LKY11JMCLW1K&v=20180605\n",
      "( 54 / 142 ) processed\n",
      "https://api.foursquare.com/v2/venues/4afdcf29f964a520162b22e3?&client_id=CROR0TLNBZEMVIFU11M2MWBAWHHWPCBJ1UCTEPWX5UZ1NH0U&client_secret=1UHFCYHNBUCCM2VYDH5VYLWC5VQJ44H53JD1LKY11JMCLW1K&v=20180605\n",
      "( 55 / 142 ) processed\n",
      "https://api.foursquare.com/v2/venues/4c7060e734443704ca0e245f?&client_id=CROR0TLNBZEMVIFU11M2MWBAWHHWPCBJ1UCTEPWX5UZ1NH0U&client_secret=1UHFCYHNBUCCM2VYDH5VYLWC5VQJ44H53JD1LKY11JMCLW1K&v=20180605\n",
      "( 56 / 142 ) processed\n",
      "https://api.foursquare.com/v2/venues/4b998d3ff964a520fc8235e3?&client_id=CROR0TLNBZEMVIFU11M2MWBAWHHWPCBJ1UCTEPWX5UZ1NH0U&client_secret=1UHFCYHNBUCCM2VYDH5VYLWC5VQJ44H53JD1LKY11JMCLW1K&v=20180605\n",
      "( 57 / 142 ) processed\n",
      "https://api.foursquare.com/v2/venues/5da4fbf091a08400078be19d?&client_id=CROR0TLNBZEMVIFU11M2MWBAWHHWPCBJ1UCTEPWX5UZ1NH0U&client_secret=1UHFCYHNBUCCM2VYDH5VYLWC5VQJ44H53JD1LKY11JMCLW1K&v=20180605\n",
      "( 58 / 142 ) processed\n",
      "https://api.foursquare.com/v2/venues/4b189424f964a52043d423e3?&client_id=CROR0TLNBZEMVIFU11M2MWBAWHHWPCBJ1UCTEPWX5UZ1NH0U&client_secret=1UHFCYHNBUCCM2VYDH5VYLWC5VQJ44H53JD1LKY11JMCLW1K&v=20180605\n",
      "( 59 / 142 ) processed\n",
      "https://api.foursquare.com/v2/venues/3fd66200f964a52009f11ee3?&client_id=CROR0TLNBZEMVIFU11M2MWBAWHHWPCBJ1UCTEPWX5UZ1NH0U&client_secret=1UHFCYHNBUCCM2VYDH5VYLWC5VQJ44H53JD1LKY11JMCLW1K&v=20180605\n",
      "( 60 / 142 ) processed\n",
      "https://api.foursquare.com/v2/venues/4e334b7bb0fb17f64f81a8b2?&client_id=CROR0TLNBZEMVIFU11M2MWBAWHHWPCBJ1UCTEPWX5UZ1NH0U&client_secret=1UHFCYHNBUCCM2VYDH5VYLWC5VQJ44H53JD1LKY11JMCLW1K&v=20180605\n",
      "( 61 / 142 ) processed\n",
      "https://api.foursquare.com/v2/venues/49ebb18ff964a52016671fe3?&client_id=CROR0TLNBZEMVIFU11M2MWBAWHHWPCBJ1UCTEPWX5UZ1NH0U&client_secret=1UHFCYHNBUCCM2VYDH5VYLWC5VQJ44H53JD1LKY11JMCLW1K&v=20180605\n",
      "( 62 / 142 ) processed\n",
      "https://api.foursquare.com/v2/venues/527d9cbc498edf0db10bde6b?&client_id=CROR0TLNBZEMVIFU11M2MWBAWHHWPCBJ1UCTEPWX5UZ1NH0U&client_secret=1UHFCYHNBUCCM2VYDH5VYLWC5VQJ44H53JD1LKY11JMCLW1K&v=20180605\n",
      "( 63 / 142 ) processed\n",
      "https://api.foursquare.com/v2/venues/4afdcf29f964a520162b22e3?&client_id=CROR0TLNBZEMVIFU11M2MWBAWHHWPCBJ1UCTEPWX5UZ1NH0U&client_secret=1UHFCYHNBUCCM2VYDH5VYLWC5VQJ44H53JD1LKY11JMCLW1K&v=20180605\n",
      "( 64 / 142 ) processed\n",
      "https://api.foursquare.com/v2/venues/5da4fbf091a08400078be19d?&client_id=CROR0TLNBZEMVIFU11M2MWBAWHHWPCBJ1UCTEPWX5UZ1NH0U&client_secret=1UHFCYHNBUCCM2VYDH5VYLWC5VQJ44H53JD1LKY11JMCLW1K&v=20180605\n",
      "( 65 / 142 ) processed\n",
      "https://api.foursquare.com/v2/venues/4b998d3ff964a520fc8235e3?&client_id=CROR0TLNBZEMVIFU11M2MWBAWHHWPCBJ1UCTEPWX5UZ1NH0U&client_secret=1UHFCYHNBUCCM2VYDH5VYLWC5VQJ44H53JD1LKY11JMCLW1K&v=20180605\n",
      "( 66 / 142 ) processed\n",
      "https://api.foursquare.com/v2/venues/3fd66200f964a52009f11ee3?&client_id=CROR0TLNBZEMVIFU11M2MWBAWHHWPCBJ1UCTEPWX5UZ1NH0U&client_secret=1UHFCYHNBUCCM2VYDH5VYLWC5VQJ44H53JD1LKY11JMCLW1K&v=20180605\n",
      "( 67 / 142 ) processed\n",
      "https://api.foursquare.com/v2/venues/527d9cbc498edf0db10bde6b?&client_id=CROR0TLNBZEMVIFU11M2MWBAWHHWPCBJ1UCTEPWX5UZ1NH0U&client_secret=1UHFCYHNBUCCM2VYDH5VYLWC5VQJ44H53JD1LKY11JMCLW1K&v=20180605\n",
      "( 68 / 142 ) processed\n",
      "https://api.foursquare.com/v2/venues/5da4fbf091a08400078be19d?&client_id=CROR0TLNBZEMVIFU11M2MWBAWHHWPCBJ1UCTEPWX5UZ1NH0U&client_secret=1UHFCYHNBUCCM2VYDH5VYLWC5VQJ44H53JD1LKY11JMCLW1K&v=20180605\n",
      "( 69 / 142 ) processed\n",
      "https://api.foursquare.com/v2/venues/5782c9ce498edde587f5aa14?&client_id=CROR0TLNBZEMVIFU11M2MWBAWHHWPCBJ1UCTEPWX5UZ1NH0U&client_secret=1UHFCYHNBUCCM2VYDH5VYLWC5VQJ44H53JD1LKY11JMCLW1K&v=20180605\n",
      "( 70 / 142 ) processed\n",
      "https://api.foursquare.com/v2/venues/4bbe78bfba9776b070cefdc8?&client_id=CROR0TLNBZEMVIFU11M2MWBAWHHWPCBJ1UCTEPWX5UZ1NH0U&client_secret=1UHFCYHNBUCCM2VYDH5VYLWC5VQJ44H53JD1LKY11JMCLW1K&v=20180605\n",
      "( 71 / 142 ) processed\n",
      "https://api.foursquare.com/v2/venues/4b522029f964a520f26927e3?&client_id=CROR0TLNBZEMVIFU11M2MWBAWHHWPCBJ1UCTEPWX5UZ1NH0U&client_secret=1UHFCYHNBUCCM2VYDH5VYLWC5VQJ44H53JD1LKY11JMCLW1K&v=20180605\n",
      "( 72 / 142 ) processed\n",
      "https://api.foursquare.com/v2/venues/5782c9ce498edde587f5aa14?&client_id=CROR0TLNBZEMVIFU11M2MWBAWHHWPCBJ1UCTEPWX5UZ1NH0U&client_secret=1UHFCYHNBUCCM2VYDH5VYLWC5VQJ44H53JD1LKY11JMCLW1K&v=20180605\n",
      "( 73 / 142 ) processed\n",
      "https://api.foursquare.com/v2/venues/4f1b77d7e4b044fd359e6d21?&client_id=CROR0TLNBZEMVIFU11M2MWBAWHHWPCBJ1UCTEPWX5UZ1NH0U&client_secret=1UHFCYHNBUCCM2VYDH5VYLWC5VQJ44H53JD1LKY11JMCLW1K&v=20180605\n",
      "( 74 / 142 ) processed\n",
      "https://api.foursquare.com/v2/venues/4adbaef0f964a520ff2921e3?&client_id=CROR0TLNBZEMVIFU11M2MWBAWHHWPCBJ1UCTEPWX5UZ1NH0U&client_secret=1UHFCYHNBUCCM2VYDH5VYLWC5VQJ44H53JD1LKY11JMCLW1K&v=20180605\n",
      "( 75 / 142 ) processed\n",
      "https://api.foursquare.com/v2/venues/4bb2bc48a32876b02e0b01fe?&client_id=CROR0TLNBZEMVIFU11M2MWBAWHHWPCBJ1UCTEPWX5UZ1NH0U&client_secret=1UHFCYHNBUCCM2VYDH5VYLWC5VQJ44H53JD1LKY11JMCLW1K&v=20180605\n",
      "( 76 / 142 ) processed\n",
      "https://api.foursquare.com/v2/venues/4babc24ef964a5200ac73ae3?&client_id=CROR0TLNBZEMVIFU11M2MWBAWHHWPCBJ1UCTEPWX5UZ1NH0U&client_secret=1UHFCYHNBUCCM2VYDH5VYLWC5VQJ44H53JD1LKY11JMCLW1K&v=20180605\n",
      "( 77 / 142 ) processed\n",
      "https://api.foursquare.com/v2/venues/4edfae15d3e36374e25707a0?&client_id=CROR0TLNBZEMVIFU11M2MWBAWHHWPCBJ1UCTEPWX5UZ1NH0U&client_secret=1UHFCYHNBUCCM2VYDH5VYLWC5VQJ44H53JD1LKY11JMCLW1K&v=20180605\n",
      "No data available for id= 4edfae15d3e36374e25707a0\n",
      "( 78 / 142 ) processed\n",
      "https://api.foursquare.com/v2/venues/57d9e9a1498e545076560fef?&client_id=CROR0TLNBZEMVIFU11M2MWBAWHHWPCBJ1UCTEPWX5UZ1NH0U&client_secret=1UHFCYHNBUCCM2VYDH5VYLWC5VQJ44H53JD1LKY11JMCLW1K&v=20180605\n",
      "No data available for id= 57d9e9a1498e545076560fef\n",
      "( 79 / 142 ) processed\n",
      "https://api.foursquare.com/v2/venues/50a287a7e4b0033f830f06db?&client_id=CROR0TLNBZEMVIFU11M2MWBAWHHWPCBJ1UCTEPWX5UZ1NH0U&client_secret=1UHFCYHNBUCCM2VYDH5VYLWC5VQJ44H53JD1LKY11JMCLW1K&v=20180605\n",
      "( 80 / 142 ) processed\n",
      "https://api.foursquare.com/v2/venues/5b931ea69d7468002c3b1382?&client_id=CROR0TLNBZEMVIFU11M2MWBAWHHWPCBJ1UCTEPWX5UZ1NH0U&client_secret=1UHFCYHNBUCCM2VYDH5VYLWC5VQJ44H53JD1LKY11JMCLW1K&v=20180605\n",
      "( 81 / 142 ) processed\n",
      "https://api.foursquare.com/v2/venues/5b931ea69d7468002c3b1382?&client_id=CROR0TLNBZEMVIFU11M2MWBAWHHWPCBJ1UCTEPWX5UZ1NH0U&client_secret=1UHFCYHNBUCCM2VYDH5VYLWC5VQJ44H53JD1LKY11JMCLW1K&v=20180605\n",
      "( 82 / 142 ) processed\n",
      "https://api.foursquare.com/v2/venues/50e1c9708aca7ff2b3e50353?&client_id=CROR0TLNBZEMVIFU11M2MWBAWHHWPCBJ1UCTEPWX5UZ1NH0U&client_secret=1UHFCYHNBUCCM2VYDH5VYLWC5VQJ44H53JD1LKY11JMCLW1K&v=20180605\n",
      "( 83 / 142 ) processed\n",
      "https://api.foursquare.com/v2/venues/5625af69498ebbc62b61a382?&client_id=CROR0TLNBZEMVIFU11M2MWBAWHHWPCBJ1UCTEPWX5UZ1NH0U&client_secret=1UHFCYHNBUCCM2VYDH5VYLWC5VQJ44H53JD1LKY11JMCLW1K&v=20180605\n",
      "( 84 / 142 ) processed\n",
      "https://api.foursquare.com/v2/venues/5682cfde498e0a65d524f8dd?&client_id=CROR0TLNBZEMVIFU11M2MWBAWHHWPCBJ1UCTEPWX5UZ1NH0U&client_secret=1UHFCYHNBUCCM2VYDH5VYLWC5VQJ44H53JD1LKY11JMCLW1K&v=20180605\n",
      "No data available for id= 5682cfde498e0a65d524f8dd\n",
      "( 85 / 142 ) processed\n",
      "https://api.foursquare.com/v2/venues/4f1f4996e4b01ff351a7a50c?&client_id=CROR0TLNBZEMVIFU11M2MWBAWHHWPCBJ1UCTEPWX5UZ1NH0U&client_secret=1UHFCYHNBUCCM2VYDH5VYLWC5VQJ44H53JD1LKY11JMCLW1K&v=20180605\n",
      "( 86 / 142 ) processed\n",
      "https://api.foursquare.com/v2/venues/539a4ff0498e79c6745baba9?&client_id=CROR0TLNBZEMVIFU11M2MWBAWHHWPCBJ1UCTEPWX5UZ1NH0U&client_secret=1UHFCYHNBUCCM2VYDH5VYLWC5VQJ44H53JD1LKY11JMCLW1K&v=20180605\n",
      "( 87 / 142 ) processed\n",
      "https://api.foursquare.com/v2/venues/539e27b0498e2eba582085ee?&client_id=CROR0TLNBZEMVIFU11M2MWBAWHHWPCBJ1UCTEPWX5UZ1NH0U&client_secret=1UHFCYHNBUCCM2VYDH5VYLWC5VQJ44H53JD1LKY11JMCLW1K&v=20180605\n",
      "( 88 / 142 ) processed\n",
      "https://api.foursquare.com/v2/venues/4b787c49f964a5209cd12ee3?&client_id=CROR0TLNBZEMVIFU11M2MWBAWHHWPCBJ1UCTEPWX5UZ1NH0U&client_secret=1UHFCYHNBUCCM2VYDH5VYLWC5VQJ44H53JD1LKY11JMCLW1K&v=20180605\n",
      "( 89 / 142 ) processed\n",
      "https://api.foursquare.com/v2/venues/4b9030abf964a520397b33e3?&client_id=CROR0TLNBZEMVIFU11M2MWBAWHHWPCBJ1UCTEPWX5UZ1NH0U&client_secret=1UHFCYHNBUCCM2VYDH5VYLWC5VQJ44H53JD1LKY11JMCLW1K&v=20180605\n",
      "( 90 / 142 ) processed\n",
      "https://api.foursquare.com/v2/venues/4df0f39dd4c04d0392c853ea?&client_id=CROR0TLNBZEMVIFU11M2MWBAWHHWPCBJ1UCTEPWX5UZ1NH0U&client_secret=1UHFCYHNBUCCM2VYDH5VYLWC5VQJ44H53JD1LKY11JMCLW1K&v=20180605\n",
      "( 91 / 142 ) processed\n",
      "https://api.foursquare.com/v2/venues/4c0e256ab1b676b06589e186?&client_id=CROR0TLNBZEMVIFU11M2MWBAWHHWPCBJ1UCTEPWX5UZ1NH0U&client_secret=1UHFCYHNBUCCM2VYDH5VYLWC5VQJ44H53JD1LKY11JMCLW1K&v=20180605\n",
      "( 92 / 142 ) processed\n",
      "https://api.foursquare.com/v2/venues/4b96926df964a520abd534e3?&client_id=CROR0TLNBZEMVIFU11M2MWBAWHHWPCBJ1UCTEPWX5UZ1NH0U&client_secret=1UHFCYHNBUCCM2VYDH5VYLWC5VQJ44H53JD1LKY11JMCLW1K&v=20180605\n",
      "No data available for id= 4b96926df964a520abd534e3\n",
      "( 93 / 142 ) processed\n",
      "https://api.foursquare.com/v2/venues/4be334312fc7d13a7a81083a?&client_id=CROR0TLNBZEMVIFU11M2MWBAWHHWPCBJ1UCTEPWX5UZ1NH0U&client_secret=1UHFCYHNBUCCM2VYDH5VYLWC5VQJ44H53JD1LKY11JMCLW1K&v=20180605\n",
      "( 94 / 142 ) processed\n",
      "https://api.foursquare.com/v2/venues/4bad49a0f964a52041423be3?&client_id=CROR0TLNBZEMVIFU11M2MWBAWHHWPCBJ1UCTEPWX5UZ1NH0U&client_secret=1UHFCYHNBUCCM2VYDH5VYLWC5VQJ44H53JD1LKY11JMCLW1K&v=20180605\n",
      "( 95 / 142 ) processed\n",
      "https://api.foursquare.com/v2/venues/4cc08b0900d83704ed474b5c?&client_id=CROR0TLNBZEMVIFU11M2MWBAWHHWPCBJ1UCTEPWX5UZ1NH0U&client_secret=1UHFCYHNBUCCM2VYDH5VYLWC5VQJ44H53JD1LKY11JMCLW1K&v=20180605\n",
      "( 96 / 142 ) processed\n",
      "https://api.foursquare.com/v2/venues/4c434b2bd691c9b6ef8f8f0a?&client_id=CROR0TLNBZEMVIFU11M2MWBAWHHWPCBJ1UCTEPWX5UZ1NH0U&client_secret=1UHFCYHNBUCCM2VYDH5VYLWC5VQJ44H53JD1LKY11JMCLW1K&v=20180605\n",
      "( 97 / 142 ) processed\n",
      "https://api.foursquare.com/v2/venues/4bad49a0f964a52041423be3?&client_id=CROR0TLNBZEMVIFU11M2MWBAWHHWPCBJ1UCTEPWX5UZ1NH0U&client_secret=1UHFCYHNBUCCM2VYDH5VYLWC5VQJ44H53JD1LKY11JMCLW1K&v=20180605\n",
      "( 98 / 142 ) processed\n",
      "https://api.foursquare.com/v2/venues/4cc08b0900d83704ed474b5c?&client_id=CROR0TLNBZEMVIFU11M2MWBAWHHWPCBJ1UCTEPWX5UZ1NH0U&client_secret=1UHFCYHNBUCCM2VYDH5VYLWC5VQJ44H53JD1LKY11JMCLW1K&v=20180605\n",
      "( 99 / 142 ) processed\n",
      "https://api.foursquare.com/v2/venues/4c69c4b58e7c0f47d48de00f?&client_id=CROR0TLNBZEMVIFU11M2MWBAWHHWPCBJ1UCTEPWX5UZ1NH0U&client_secret=1UHFCYHNBUCCM2VYDH5VYLWC5VQJ44H53JD1LKY11JMCLW1K&v=20180605\n",
      "No data available for id= 4c69c4b58e7c0f47d48de00f\n",
      "( 100 / 142 ) processed\n",
      "https://api.foursquare.com/v2/venues/562035d9498e2abb4137c2c7?&client_id=CROR0TLNBZEMVIFU11M2MWBAWHHWPCBJ1UCTEPWX5UZ1NH0U&client_secret=1UHFCYHNBUCCM2VYDH5VYLWC5VQJ44H53JD1LKY11JMCLW1K&v=20180605\n",
      "( 101 / 142 ) processed\n",
      "https://api.foursquare.com/v2/venues/4e4e3e22bd4101d0d7a5c2d1?&client_id=CROR0TLNBZEMVIFU11M2MWBAWHHWPCBJ1UCTEPWX5UZ1NH0U&client_secret=1UHFCYHNBUCCM2VYDH5VYLWC5VQJ44H53JD1LKY11JMCLW1K&v=20180605\n",
      "( 102 / 142 ) processed\n",
      "https://api.foursquare.com/v2/venues/527ffc0811d2d329d5e49abd?&client_id=CROR0TLNBZEMVIFU11M2MWBAWHHWPCBJ1UCTEPWX5UZ1NH0U&client_secret=1UHFCYHNBUCCM2VYDH5VYLWC5VQJ44H53JD1LKY11JMCLW1K&v=20180605\n",
      "( 103 / 142 ) processed\n",
      "https://api.foursquare.com/v2/venues/4b647b56f964a520c4b62ae3?&client_id=CROR0TLNBZEMVIFU11M2MWBAWHHWPCBJ1UCTEPWX5UZ1NH0U&client_secret=1UHFCYHNBUCCM2VYDH5VYLWC5VQJ44H53JD1LKY11JMCLW1K&v=20180605\n",
      "( 104 / 142 ) processed\n",
      "https://api.foursquare.com/v2/venues/4b787c49f964a5209cd12ee3?&client_id=CROR0TLNBZEMVIFU11M2MWBAWHHWPCBJ1UCTEPWX5UZ1NH0U&client_secret=1UHFCYHNBUCCM2VYDH5VYLWC5VQJ44H53JD1LKY11JMCLW1K&v=20180605\n",
      "( 105 / 142 ) processed\n",
      "https://api.foursquare.com/v2/venues/4c0c01e0bbc676b00d6b4cd5?&client_id=CROR0TLNBZEMVIFU11M2MWBAWHHWPCBJ1UCTEPWX5UZ1NH0U&client_secret=1UHFCYHNBUCCM2VYDH5VYLWC5VQJ44H53JD1LKY11JMCLW1K&v=20180605\n",
      "( 106 / 142 ) processed\n",
      "https://api.foursquare.com/v2/venues/4c76ff35a5676dcb72671721?&client_id=CROR0TLNBZEMVIFU11M2MWBAWHHWPCBJ1UCTEPWX5UZ1NH0U&client_secret=1UHFCYHNBUCCM2VYDH5VYLWC5VQJ44H53JD1LKY11JMCLW1K&v=20180605\n",
      "( 107 / 142 ) processed\n",
      "https://api.foursquare.com/v2/venues/4df0f39dd4c04d0392c853ea?&client_id=CROR0TLNBZEMVIFU11M2MWBAWHHWPCBJ1UCTEPWX5UZ1NH0U&client_secret=1UHFCYHNBUCCM2VYDH5VYLWC5VQJ44H53JD1LKY11JMCLW1K&v=20180605\n",
      "( 108 / 142 ) processed\n",
      "https://api.foursquare.com/v2/venues/4e6bfe1c7d8b2c711b17bbe5?&client_id=CROR0TLNBZEMVIFU11M2MWBAWHHWPCBJ1UCTEPWX5UZ1NH0U&client_secret=1UHFCYHNBUCCM2VYDH5VYLWC5VQJ44H53JD1LKY11JMCLW1K&v=20180605\n",
      "No data available for id= 4e6bfe1c7d8b2c711b17bbe5\n",
      "( 109 / 142 ) processed\n",
      "https://api.foursquare.com/v2/venues/4f580c1be4b0bdfd0e7e8102?&client_id=CROR0TLNBZEMVIFU11M2MWBAWHHWPCBJ1UCTEPWX5UZ1NH0U&client_secret=1UHFCYHNBUCCM2VYDH5VYLWC5VQJ44H53JD1LKY11JMCLW1K&v=20180605\n",
      "( 110 / 142 ) processed\n",
      "https://api.foursquare.com/v2/venues/4c434b2bd691c9b6ef8f8f0a?&client_id=CROR0TLNBZEMVIFU11M2MWBAWHHWPCBJ1UCTEPWX5UZ1NH0U&client_secret=1UHFCYHNBUCCM2VYDH5VYLWC5VQJ44H53JD1LKY11JMCLW1K&v=20180605\n",
      "( 111 / 142 ) processed\n",
      "https://api.foursquare.com/v2/venues/4c66f1ac8e9120a1b266d964?&client_id=CROR0TLNBZEMVIFU11M2MWBAWHHWPCBJ1UCTEPWX5UZ1NH0U&client_secret=1UHFCYHNBUCCM2VYDH5VYLWC5VQJ44H53JD1LKY11JMCLW1K&v=20180605\n",
      "No data available for id= 4c66f1ac8e9120a1b266d964\n",
      "( 112 / 142 ) processed\n",
      "https://api.foursquare.com/v2/venues/4b1301c4f964a5208a9223e3?&client_id=CROR0TLNBZEMVIFU11M2MWBAWHHWPCBJ1UCTEPWX5UZ1NH0U&client_secret=1UHFCYHNBUCCM2VYDH5VYLWC5VQJ44H53JD1LKY11JMCLW1K&v=20180605\n",
      "No data available for id= 4b1301c4f964a5208a9223e3\n",
      "( 113 / 142 ) processed\n",
      "https://api.foursquare.com/v2/venues/5623f6f9498e5a44a08bfae8?&client_id=CROR0TLNBZEMVIFU11M2MWBAWHHWPCBJ1UCTEPWX5UZ1NH0U&client_secret=1UHFCYHNBUCCM2VYDH5VYLWC5VQJ44H53JD1LKY11JMCLW1K&v=20180605\n",
      "( 114 / 142 ) processed\n",
      "https://api.foursquare.com/v2/venues/4dc0aaedae606fe8b71c226b?&client_id=CROR0TLNBZEMVIFU11M2MWBAWHHWPCBJ1UCTEPWX5UZ1NH0U&client_secret=1UHFCYHNBUCCM2VYDH5VYLWC5VQJ44H53JD1LKY11JMCLW1K&v=20180605\n",
      "No data available for id= 4dc0aaedae606fe8b71c226b\n",
      "( 115 / 142 ) processed\n",
      "https://api.foursquare.com/v2/venues/4b9be038f964a520393036e3?&client_id=CROR0TLNBZEMVIFU11M2MWBAWHHWPCBJ1UCTEPWX5UZ1NH0U&client_secret=1UHFCYHNBUCCM2VYDH5VYLWC5VQJ44H53JD1LKY11JMCLW1K&v=20180605\n",
      "( 116 / 142 ) processed\n",
      "https://api.foursquare.com/v2/venues/4be74a502468c928505a0243?&client_id=CROR0TLNBZEMVIFU11M2MWBAWHHWPCBJ1UCTEPWX5UZ1NH0U&client_secret=1UHFCYHNBUCCM2VYDH5VYLWC5VQJ44H53JD1LKY11JMCLW1K&v=20180605\n",
      "( 117 / 142 ) processed\n",
      "https://api.foursquare.com/v2/venues/4b9be038f964a520393036e3?&client_id=CROR0TLNBZEMVIFU11M2MWBAWHHWPCBJ1UCTEPWX5UZ1NH0U&client_secret=1UHFCYHNBUCCM2VYDH5VYLWC5VQJ44H53JD1LKY11JMCLW1K&v=20180605\n",
      "( 118 / 142 ) processed\n",
      "https://api.foursquare.com/v2/venues/519ff6c8498e1300ddcbd45c?&client_id=CROR0TLNBZEMVIFU11M2MWBAWHHWPCBJ1UCTEPWX5UZ1NH0U&client_secret=1UHFCYHNBUCCM2VYDH5VYLWC5VQJ44H53JD1LKY11JMCLW1K&v=20180605\n",
      "( 119 / 142 ) processed\n",
      "https://api.foursquare.com/v2/venues/4db0f4371e729fcc56497f20?&client_id=CROR0TLNBZEMVIFU11M2MWBAWHHWPCBJ1UCTEPWX5UZ1NH0U&client_secret=1UHFCYHNBUCCM2VYDH5VYLWC5VQJ44H53JD1LKY11JMCLW1K&v=20180605\n",
      "( 120 / 142 ) processed\n",
      "https://api.foursquare.com/v2/venues/4b65f2e3f964a5206e0a2be3?&client_id=CROR0TLNBZEMVIFU11M2MWBAWHHWPCBJ1UCTEPWX5UZ1NH0U&client_secret=1UHFCYHNBUCCM2VYDH5VYLWC5VQJ44H53JD1LKY11JMCLW1K&v=20180605\n",
      "No data available for id= 4b65f2e3f964a5206e0a2be3\n",
      "( 121 / 142 ) processed\n",
      "https://api.foursquare.com/v2/venues/4be74a502468c928505a0243?&client_id=CROR0TLNBZEMVIFU11M2MWBAWHHWPCBJ1UCTEPWX5UZ1NH0U&client_secret=1UHFCYHNBUCCM2VYDH5VYLWC5VQJ44H53JD1LKY11JMCLW1K&v=20180605\n",
      "( 122 / 142 ) processed\n",
      "https://api.foursquare.com/v2/venues/56ed855a498ef3bb022352c3?&client_id=CROR0TLNBZEMVIFU11M2MWBAWHHWPCBJ1UCTEPWX5UZ1NH0U&client_secret=1UHFCYHNBUCCM2VYDH5VYLWC5VQJ44H53JD1LKY11JMCLW1K&v=20180605\n",
      "( 123 / 142 ) processed\n",
      "https://api.foursquare.com/v2/venues/5272ca4511d22488f6895caf?&client_id=CROR0TLNBZEMVIFU11M2MWBAWHHWPCBJ1UCTEPWX5UZ1NH0U&client_secret=1UHFCYHNBUCCM2VYDH5VYLWC5VQJ44H53JD1LKY11JMCLW1K&v=20180605\n",
      "( 124 / 142 ) processed\n",
      "https://api.foursquare.com/v2/venues/5b0c8e2d2f97ec002c67a428?&client_id=CROR0TLNBZEMVIFU11M2MWBAWHHWPCBJ1UCTEPWX5UZ1NH0U&client_secret=1UHFCYHNBUCCM2VYDH5VYLWC5VQJ44H53JD1LKY11JMCLW1K&v=20180605\n",
      "( 125 / 142 ) processed\n",
      "https://api.foursquare.com/v2/venues/4bbb9dbded7776b0e1ad3e51?&client_id=CROR0TLNBZEMVIFU11M2MWBAWHHWPCBJ1UCTEPWX5UZ1NH0U&client_secret=1UHFCYHNBUCCM2VYDH5VYLWC5VQJ44H53JD1LKY11JMCLW1K&v=20180605\n",
      "( 126 / 142 ) processed\n",
      "https://api.foursquare.com/v2/venues/4bad49a0f964a52041423be3?&client_id=CROR0TLNBZEMVIFU11M2MWBAWHHWPCBJ1UCTEPWX5UZ1NH0U&client_secret=1UHFCYHNBUCCM2VYDH5VYLWC5VQJ44H53JD1LKY11JMCLW1K&v=20180605\n",
      "( 127 / 142 ) processed\n",
      "https://api.foursquare.com/v2/venues/4c434b2bd691c9b6ef8f8f0a?&client_id=CROR0TLNBZEMVIFU11M2MWBAWHHWPCBJ1UCTEPWX5UZ1NH0U&client_secret=1UHFCYHNBUCCM2VYDH5VYLWC5VQJ44H53JD1LKY11JMCLW1K&v=20180605\n",
      "( 128 / 142 ) processed\n",
      "https://api.foursquare.com/v2/venues/4cc08b0900d83704ed474b5c?&client_id=CROR0TLNBZEMVIFU11M2MWBAWHHWPCBJ1UCTEPWX5UZ1NH0U&client_secret=1UHFCYHNBUCCM2VYDH5VYLWC5VQJ44H53JD1LKY11JMCLW1K&v=20180605\n",
      "( 129 / 142 ) processed\n",
      "https://api.foursquare.com/v2/venues/4cb4a712db32f04dcb5adf4d?&client_id=CROR0TLNBZEMVIFU11M2MWBAWHHWPCBJ1UCTEPWX5UZ1NH0U&client_secret=1UHFCYHNBUCCM2VYDH5VYLWC5VQJ44H53JD1LKY11JMCLW1K&v=20180605\n",
      "No data available for id= 4cb4a712db32f04dcb5adf4d\n",
      "( 130 / 142 ) processed\n",
      "https://api.foursquare.com/v2/venues/551b7f75498e86c00a0ed2e1?&client_id=CROR0TLNBZEMVIFU11M2MWBAWHHWPCBJ1UCTEPWX5UZ1NH0U&client_secret=1UHFCYHNBUCCM2VYDH5VYLWC5VQJ44H53JD1LKY11JMCLW1K&v=20180605\n",
      "( 131 / 142 ) processed\n",
      "https://api.foursquare.com/v2/venues/4a63bfb4f964a520b3c51fe3?&client_id=CROR0TLNBZEMVIFU11M2MWBAWHHWPCBJ1UCTEPWX5UZ1NH0U&client_secret=1UHFCYHNBUCCM2VYDH5VYLWC5VQJ44H53JD1LKY11JMCLW1K&v=20180605\n",
      "( 132 / 142 ) processed\n",
      "https://api.foursquare.com/v2/venues/4fe4fb50c2eee335e4fea69d?&client_id=CROR0TLNBZEMVIFU11M2MWBAWHHWPCBJ1UCTEPWX5UZ1NH0U&client_secret=1UHFCYHNBUCCM2VYDH5VYLWC5VQJ44H53JD1LKY11JMCLW1K&v=20180605\n",
      "( 133 / 142 ) processed\n",
      "https://api.foursquare.com/v2/venues/4f57f98fe4b0bd50f6bb8b31?&client_id=CROR0TLNBZEMVIFU11M2MWBAWHHWPCBJ1UCTEPWX5UZ1NH0U&client_secret=1UHFCYHNBUCCM2VYDH5VYLWC5VQJ44H53JD1LKY11JMCLW1K&v=20180605\n",
      "( 134 / 142 ) processed\n",
      "https://api.foursquare.com/v2/venues/4a5b660df964a52015bb1fe3?&client_id=CROR0TLNBZEMVIFU11M2MWBAWHHWPCBJ1UCTEPWX5UZ1NH0U&client_secret=1UHFCYHNBUCCM2VYDH5VYLWC5VQJ44H53JD1LKY11JMCLW1K&v=20180605\n",
      "( 135 / 142 ) processed\n",
      "https://api.foursquare.com/v2/venues/4c48da9f3013a59356c5f0e1?&client_id=CROR0TLNBZEMVIFU11M2MWBAWHHWPCBJ1UCTEPWX5UZ1NH0U&client_secret=1UHFCYHNBUCCM2VYDH5VYLWC5VQJ44H53JD1LKY11JMCLW1K&v=20180605\n",
      "( 136 / 142 ) processed\n",
      "https://api.foursquare.com/v2/venues/5b931ea69d7468002c3b1382?&client_id=CROR0TLNBZEMVIFU11M2MWBAWHHWPCBJ1UCTEPWX5UZ1NH0U&client_secret=1UHFCYHNBUCCM2VYDH5VYLWC5VQJ44H53JD1LKY11JMCLW1K&v=20180605\n",
      "( 137 / 142 ) processed\n",
      "https://api.foursquare.com/v2/venues/5539753f498edbace4746b67?&client_id=CROR0TLNBZEMVIFU11M2MWBAWHHWPCBJ1UCTEPWX5UZ1NH0U&client_secret=1UHFCYHNBUCCM2VYDH5VYLWC5VQJ44H53JD1LKY11JMCLW1K&v=20180605\n",
      "( 138 / 142 ) processed\n",
      "https://api.foursquare.com/v2/venues/564d283d498e6e851df79d87?&client_id=CROR0TLNBZEMVIFU11M2MWBAWHHWPCBJ1UCTEPWX5UZ1NH0U&client_secret=1UHFCYHNBUCCM2VYDH5VYLWC5VQJ44H53JD1LKY11JMCLW1K&v=20180605\n",
      "( 139 / 142 ) processed\n",
      "https://api.foursquare.com/v2/venues/50a287a7e4b0033f830f06db?&client_id=CROR0TLNBZEMVIFU11M2MWBAWHHWPCBJ1UCTEPWX5UZ1NH0U&client_secret=1UHFCYHNBUCCM2VYDH5VYLWC5VQJ44H53JD1LKY11JMCLW1K&v=20180605\n",
      "( 140 / 142 ) processed\n",
      "https://api.foursquare.com/v2/venues/4b1b341bf964a5208af923e3?&client_id=CROR0TLNBZEMVIFU11M2MWBAWHHWPCBJ1UCTEPWX5UZ1NH0U&client_secret=1UHFCYHNBUCCM2VYDH5VYLWC5VQJ44H53JD1LKY11JMCLW1K&v=20180605\n",
      "( 141 / 142 ) processed\n",
      "https://api.foursquare.com/v2/venues/4b65f2e3f964a5206e0a2be3?&client_id=CROR0TLNBZEMVIFU11M2MWBAWHHWPCBJ1UCTEPWX5UZ1NH0U&client_secret=1UHFCYHNBUCCM2VYDH5VYLWC5VQJ44H53JD1LKY11JMCLW1K&v=20180605\n",
      "No data available for id= 4b65f2e3f964a5206e0a2be3\n",
      "( 142 / 142 ) processed\n",
      "Total Processed :  143\n"
     ]
    }
   ],
   "source": [
    "# prepare neighborhood list that contains indian resturants\n",
    "column_names=['Borough', 'Neighborhood', 'ID','Name','Likes','Rating','Tips']\n",
    "indian_rest_stats_ny=pd.DataFrame(columns=column_names)\n",
    "count=1\n",
    "\n",
    "\n",
    "for row in indian_rest_ny.values.tolist():\n",
    "    Borough,Neighborhood,ID,Name=row\n",
    "    if count == 1:\n",
    "        print(row)\n",
    "    try:\n",
    "        venue_details=get_venue_details(ID)\n",
    "        #print(venue_details)\n",
    "        id,name,likes,rating,tips=venue_details.values.tolist()[0]\n",
    "    except IndexError:\n",
    "        print('No data available for id=',ID)\n",
    "        # we will assign 0 value for these resturants as they may have been \n",
    "        #recently opened or details does not exist in FourSquare Database\n",
    "        id,name,likes,rating,tips=[0]*5\n",
    "    print('(',count,'/',len(indian_rest_ny),')','processed')\n",
    "    indian_rest_stats_ny = indian_rest_stats_ny.append({'Borough': Borough,\n",
    "                                                'Neighborhood': Neighborhood, \n",
    "                                                'ID': id,\n",
    "                                                'Name' : name,\n",
    "                                                'Likes' : likes,\n",
    "                                                'Rating' : rating,\n",
    "                                                'Tips' : tips\n",
    "                                               }, ignore_index=True)\n",
    "    count+=1\n",
    "print(\"Total Processed : \", count)\n",
    "indian_rest_stats_ny.to_csv('indian_rest_stats_ny.csv', index=False)"
   ]
  },
  {
   "cell_type": "markdown",
   "metadata": {},
   "source": [
    "Data set created based on the venue details acquired from Foursquare"
   ]
  },
  {
   "cell_type": "code",
   "execution_count": 22,
   "metadata": {},
   "outputs": [
    {
     "data": {
      "text/html": [
       "<div>\n",
       "<style scoped>\n",
       "    .dataframe tbody tr th:only-of-type {\n",
       "        vertical-align: middle;\n",
       "    }\n",
       "\n",
       "    .dataframe tbody tr th {\n",
       "        vertical-align: top;\n",
       "    }\n",
       "\n",
       "    .dataframe thead th {\n",
       "        text-align: right;\n",
       "    }\n",
       "</style>\n",
       "<table border=\"1\" class=\"dataframe\">\n",
       "  <thead>\n",
       "    <tr style=\"text-align: right;\">\n",
       "      <th></th>\n",
       "      <th>Borough</th>\n",
       "      <th>Neighborhood</th>\n",
       "      <th>ID</th>\n",
       "      <th>Name</th>\n",
       "      <th>Likes</th>\n",
       "      <th>Rating</th>\n",
       "      <th>Tips</th>\n",
       "    </tr>\n",
       "  </thead>\n",
       "  <tbody>\n",
       "    <tr>\n",
       "      <th>0</th>\n",
       "      <td>Bronx</td>\n",
       "      <td>Woodlawn</td>\n",
       "      <td>4c0448d9310fc9b6bf1dc761</td>\n",
       "      <td>Curry Spot</td>\n",
       "      <td>5</td>\n",
       "      <td>7.7</td>\n",
       "      <td>10</td>\n",
       "    </tr>\n",
       "    <tr>\n",
       "      <th>1</th>\n",
       "      <td>Bronx</td>\n",
       "      <td>Parkchester</td>\n",
       "      <td>4c194631838020a13e78e561</td>\n",
       "      <td>Melanies Roti Bar And Grill</td>\n",
       "      <td>3</td>\n",
       "      <td>6.5</td>\n",
       "      <td>2</td>\n",
       "    </tr>\n",
       "    <tr>\n",
       "      <th>2</th>\n",
       "      <td>Bronx</td>\n",
       "      <td>Spuyten Duyvil</td>\n",
       "      <td>4c04544df423a593ac83d116</td>\n",
       "      <td>Cumin Indian Cuisine</td>\n",
       "      <td>13</td>\n",
       "      <td>5.8</td>\n",
       "      <td>9</td>\n",
       "    </tr>\n",
       "    <tr>\n",
       "      <th>3</th>\n",
       "      <td>Bronx</td>\n",
       "      <td>Concourse</td>\n",
       "      <td>551b7f75498e86c00a0ed2e1</td>\n",
       "      <td>Hungry Bird</td>\n",
       "      <td>8</td>\n",
       "      <td>7.0</td>\n",
       "      <td>3</td>\n",
       "    </tr>\n",
       "    <tr>\n",
       "      <th>4</th>\n",
       "      <td>Bronx</td>\n",
       "      <td>Unionport</td>\n",
       "      <td>4c194631838020a13e78e561</td>\n",
       "      <td>Melanies Roti Bar And Grill</td>\n",
       "      <td>3</td>\n",
       "      <td>6.5</td>\n",
       "      <td>2</td>\n",
       "    </tr>\n",
       "  </tbody>\n",
       "</table>\n",
       "</div>"
      ],
      "text/plain": [
       "  Borough    Neighborhood                        ID  \\\n",
       "0   Bronx        Woodlawn  4c0448d9310fc9b6bf1dc761   \n",
       "1   Bronx     Parkchester  4c194631838020a13e78e561   \n",
       "2   Bronx  Spuyten Duyvil  4c04544df423a593ac83d116   \n",
       "3   Bronx       Concourse  551b7f75498e86c00a0ed2e1   \n",
       "4   Bronx       Unionport  4c194631838020a13e78e561   \n",
       "\n",
       "                          Name Likes  Rating Tips  \n",
       "0                   Curry Spot     5     7.7   10  \n",
       "1  Melanies Roti Bar And Grill     3     6.5    2  \n",
       "2         Cumin Indian Cuisine    13     5.8    9  \n",
       "3                  Hungry Bird     8     7.0    3  \n",
       "4  Melanies Roti Bar And Grill     3     6.5    2  "
      ]
     },
     "execution_count": 22,
     "metadata": {},
     "output_type": "execute_result"
    }
   ],
   "source": [
    "indian_rest_stats_ny.head()"
   ]
  },
  {
   "cell_type": "code",
   "execution_count": 23,
   "metadata": {},
   "outputs": [
    {
     "data": {
      "text/plain": [
       "(142, 7)"
      ]
     },
     "execution_count": 23,
     "metadata": {},
     "output_type": "execute_result"
    }
   ],
   "source": [
    "indian_rest_stats_ny.shape"
   ]
  },
  {
   "cell_type": "code",
   "execution_count": 24,
   "metadata": {},
   "outputs": [
    {
     "name": "stdout",
     "output_type": "stream",
     "text": [
      "<class 'pandas.core.frame.DataFrame'>\n",
      "RangeIndex: 142 entries, 0 to 141\n",
      "Data columns (total 7 columns):\n",
      " #   Column        Non-Null Count  Dtype  \n",
      "---  ------        --------------  -----  \n",
      " 0   Borough       142 non-null    object \n",
      " 1   Neighborhood  142 non-null    object \n",
      " 2   ID            142 non-null    object \n",
      " 3   Name          142 non-null    object \n",
      " 4   Likes         142 non-null    object \n",
      " 5   Rating        142 non-null    float64\n",
      " 6   Tips          142 non-null    object \n",
      "dtypes: float64(1), object(6)\n",
      "memory usage: 7.9+ KB\n"
     ]
    }
   ],
   "source": [
    "indian_rest_stats_ny.info()"
   ]
  },
  {
   "cell_type": "code",
   "execution_count": 25,
   "metadata": {},
   "outputs": [
    {
     "name": "stdout",
     "output_type": "stream",
     "text": [
      "<class 'pandas.core.frame.DataFrame'>\n",
      "RangeIndex: 142 entries, 0 to 141\n",
      "Data columns (total 7 columns):\n",
      " #   Column        Non-Null Count  Dtype  \n",
      "---  ------        --------------  -----  \n",
      " 0   Borough       142 non-null    object \n",
      " 1   Neighborhood  142 non-null    object \n",
      " 2   ID            142 non-null    object \n",
      " 3   Name          142 non-null    object \n",
      " 4   Likes         142 non-null    float64\n",
      " 5   Rating        142 non-null    float64\n",
      " 6   Tips          142 non-null    float64\n",
      "dtypes: float64(3), object(4)\n",
      "memory usage: 7.9+ KB\n"
     ]
    }
   ],
   "source": [
    "convert_types = { 'Likes': float, 'Tips': float }\n",
    "indian_rest_stats_ny = indian_rest_stats_ny.astype(convert_types)\n",
    "indian_rest_stats_ny.info()"
   ]
  },
  {
   "cell_type": "markdown",
   "metadata": {},
   "source": [
    "<h5> Restaurant with most tips </h5>"
   ]
  },
  {
   "cell_type": "code",
   "execution_count": 26,
   "metadata": {},
   "outputs": [
    {
     "data": {
      "text/plain": [
       "Borough                        Manhattan\n",
       "Neighborhood                    Gramercy\n",
       "ID              4a12eb1ff964a52099771fe3\n",
       "Name                               Dhaba\n",
       "Likes                                495\n",
       "Rating                               8.3\n",
       "Tips                                 166\n",
       "Name: 51, dtype: object"
      ]
     },
     "execution_count": 26,
     "metadata": {},
     "output_type": "execute_result"
    }
   ],
   "source": [
    "indian_rest_stats_ny.iloc[indian_rest_stats_ny['Tips'].idxmax()]"
   ]
  },
  {
   "cell_type": "markdown",
   "metadata": {},
   "source": [
    "<h5> Highly rated Restaurant </h5>"
   ]
  },
  {
   "cell_type": "code",
   "execution_count": 27,
   "metadata": {},
   "outputs": [
    {
     "data": {
      "text/plain": [
       "Borough                        Manhattan\n",
       "Neighborhood                     Tribeca\n",
       "ID              4bbb9dbded7776b0e1ad3e51\n",
       "Name                    Tamarind TriBeCa\n",
       "Likes                                600\n",
       "Rating                               9.1\n",
       "Tips                                 150\n",
       "Name: 41, dtype: object"
      ]
     },
     "execution_count": 27,
     "metadata": {},
     "output_type": "execute_result"
    }
   ],
   "source": [
    "indian_rest_stats_ny.iloc[indian_rest_stats_ny['Rating'].idxmax()]"
   ]
  },
  {
   "cell_type": "markdown",
   "metadata": {},
   "source": [
    "<h5> Most Liked Restaurant </h5>"
   ]
  },
  {
   "cell_type": "code",
   "execution_count": 28,
   "metadata": {},
   "outputs": [
    {
     "data": {
      "text/plain": [
       "Borough                        Manhattan\n",
       "Neighborhood                     Tribeca\n",
       "ID              4bbb9dbded7776b0e1ad3e51\n",
       "Name                    Tamarind TriBeCa\n",
       "Likes                                600\n",
       "Rating                               9.1\n",
       "Tips                                 150\n",
       "Name: 41, dtype: object"
      ]
     },
     "execution_count": 28,
     "metadata": {},
     "output_type": "execute_result"
    }
   ],
   "source": [
    "indian_rest_stats_ny.iloc[indian_rest_stats_ny['Likes'].idxmax()]"
   ]
  },
  {
   "cell_type": "markdown",
   "metadata": {},
   "source": [
    "Create a data set with the average rating of all the restaurants in the particular neighborhood of New York city"
   ]
  },
  {
   "cell_type": "code",
   "execution_count": 29,
   "metadata": {},
   "outputs": [],
   "source": [
    "ny_neighborhood_stats=indian_rest_stats_ny.groupby('Neighborhood',as_index=False).mean()[['Neighborhood','Rating']]\n",
    "ny_neighborhood_stats.columns=['Neighborhood','Average Rating']"
   ]
  },
  {
   "cell_type": "markdown",
   "metadata": {},
   "source": [
    "<h5> <i> List of Top 10 neighborhoods which are in their order of average rating of Indian cuisine restaurants </i> </h5>"
   ]
  },
  {
   "cell_type": "code",
   "execution_count": 30,
   "metadata": {},
   "outputs": [
    {
     "data": {
      "text/html": [
       "<div>\n",
       "<style scoped>\n",
       "    .dataframe tbody tr th:only-of-type {\n",
       "        vertical-align: middle;\n",
       "    }\n",
       "\n",
       "    .dataframe tbody tr th {\n",
       "        vertical-align: top;\n",
       "    }\n",
       "\n",
       "    .dataframe thead th {\n",
       "        text-align: right;\n",
       "    }\n",
       "</style>\n",
       "<table border=\"1\" class=\"dataframe\">\n",
       "  <thead>\n",
       "    <tr style=\"text-align: right;\">\n",
       "      <th></th>\n",
       "      <th>Neighborhood</th>\n",
       "      <th>Average Rating</th>\n",
       "    </tr>\n",
       "  </thead>\n",
       "  <tbody>\n",
       "    <tr>\n",
       "      <th>66</th>\n",
       "      <td>Tribeca</td>\n",
       "      <td>9.10</td>\n",
       "    </tr>\n",
       "    <tr>\n",
       "      <th>11</th>\n",
       "      <td>Civic Center</td>\n",
       "      <td>9.10</td>\n",
       "    </tr>\n",
       "    <tr>\n",
       "      <th>4</th>\n",
       "      <td>Blissville</td>\n",
       "      <td>9.10</td>\n",
       "    </tr>\n",
       "    <tr>\n",
       "      <th>62</th>\n",
       "      <td>Sunnyside</td>\n",
       "      <td>9.10</td>\n",
       "    </tr>\n",
       "    <tr>\n",
       "      <th>29</th>\n",
       "      <td>Greenwich Village</td>\n",
       "      <td>8.90</td>\n",
       "    </tr>\n",
       "    <tr>\n",
       "      <th>71</th>\n",
       "      <td>West Village</td>\n",
       "      <td>8.85</td>\n",
       "    </tr>\n",
       "    <tr>\n",
       "      <th>0</th>\n",
       "      <td>Astoria</td>\n",
       "      <td>8.80</td>\n",
       "    </tr>\n",
       "    <tr>\n",
       "      <th>10</th>\n",
       "      <td>Chelsea</td>\n",
       "      <td>8.70</td>\n",
       "    </tr>\n",
       "    <tr>\n",
       "      <th>49</th>\n",
       "      <td>Prospect Lefferts Gardens</td>\n",
       "      <td>8.70</td>\n",
       "    </tr>\n",
       "    <tr>\n",
       "      <th>56</th>\n",
       "      <td>Ridgewood</td>\n",
       "      <td>8.60</td>\n",
       "    </tr>\n",
       "  </tbody>\n",
       "</table>\n",
       "</div>"
      ],
      "text/plain": [
       "                 Neighborhood  Average Rating\n",
       "66                    Tribeca            9.10\n",
       "11               Civic Center            9.10\n",
       "4                  Blissville            9.10\n",
       "62                  Sunnyside            9.10\n",
       "29          Greenwich Village            8.90\n",
       "71               West Village            8.85\n",
       "0                     Astoria            8.80\n",
       "10                    Chelsea            8.70\n",
       "49  Prospect Lefferts Gardens            8.70\n",
       "56                  Ridgewood            8.60"
      ]
     },
     "execution_count": 30,
     "metadata": {},
     "output_type": "execute_result"
    }
   ],
   "source": [
    "ny_neighborhood_stats.sort_values(['Average Rating'],ascending=False).head(10)"
   ]
  },
  {
   "cell_type": "markdown",
   "metadata": {},
   "source": [
    "<h5> Boroughs sorted with high average rating of Indian cuisine restaurants in New York city </h5>"
   ]
  },
  {
   "cell_type": "code",
   "execution_count": 31,
   "metadata": {},
   "outputs": [],
   "source": [
    "ny_borough_stats=indian_rest_stats_ny.groupby('Borough',as_index=False).mean()[['Borough','Rating']]\n",
    "ny_borough_stats.columns=['Borough','Average Rating']"
   ]
  },
  {
   "cell_type": "code",
   "execution_count": 32,
   "metadata": {},
   "outputs": [
    {
     "data": {
      "text/html": [
       "<div>\n",
       "<style scoped>\n",
       "    .dataframe tbody tr th:only-of-type {\n",
       "        vertical-align: middle;\n",
       "    }\n",
       "\n",
       "    .dataframe tbody tr th {\n",
       "        vertical-align: top;\n",
       "    }\n",
       "\n",
       "    .dataframe thead th {\n",
       "        text-align: right;\n",
       "    }\n",
       "</style>\n",
       "<table border=\"1\" class=\"dataframe\">\n",
       "  <thead>\n",
       "    <tr style=\"text-align: right;\">\n",
       "      <th></th>\n",
       "      <th>Borough</th>\n",
       "      <th>Average Rating</th>\n",
       "    </tr>\n",
       "  </thead>\n",
       "  <tbody>\n",
       "    <tr>\n",
       "      <th>2</th>\n",
       "      <td>Manhattan</td>\n",
       "      <td>8.311429</td>\n",
       "    </tr>\n",
       "    <tr>\n",
       "      <th>1</th>\n",
       "      <td>Brooklyn</td>\n",
       "      <td>7.654167</td>\n",
       "    </tr>\n",
       "    <tr>\n",
       "      <th>0</th>\n",
       "      <td>Bronx</td>\n",
       "      <td>6.750000</td>\n",
       "    </tr>\n",
       "    <tr>\n",
       "      <th>3</th>\n",
       "      <td>Queens</td>\n",
       "      <td>6.556338</td>\n",
       "    </tr>\n",
       "    <tr>\n",
       "      <th>4</th>\n",
       "      <td>Staten Island</td>\n",
       "      <td>5.300000</td>\n",
       "    </tr>\n",
       "  </tbody>\n",
       "</table>\n",
       "</div>"
      ],
      "text/plain": [
       "         Borough  Average Rating\n",
       "2      Manhattan        8.311429\n",
       "1       Brooklyn        7.654167\n",
       "0          Bronx        6.750000\n",
       "3         Queens        6.556338\n",
       "4  Staten Island        5.300000"
      ]
     },
     "execution_count": 32,
     "metadata": {},
     "output_type": "execute_result"
    }
   ],
   "source": [
    "ny_borough_stats.sort_values(['Average Rating'],ascending=False).head()"
   ]
  },
  {
   "cell_type": "markdown",
   "metadata": {},
   "source": [
    "Bar chart visualizing the restaurants with average rating based on Boroughs"
   ]
  },
  {
   "cell_type": "code",
   "execution_count": 33,
   "metadata": {},
   "outputs": [
    {
     "data": {
      "image/png": "[encoded data removed]",
      "text/plain": [
       "<Figure size 540x630 with 1 Axes>"
      ]
     },
     "metadata": {
      "needs_background": "light"
     },
     "output_type": "display_data"
    }
   ],
   "source": [
    "plt.figure(figsize=(6,7), dpi = 90)\n",
    "# title\n",
    "plt.title('Average rating of Indian Resturants for each Borough')\n",
    "#On x-axis\n",
    "plt.xlabel('Borough', fontsize = 15)\n",
    "#On y-axis\n",
    "plt.ylabel('Average Rating', fontsize=15)\n",
    "#giving a bar plot\n",
    "indian_rest_stats_ny.groupby('Borough').mean()['Rating'].plot(kind='bar', color='#12EA92')\n",
    "#legend\n",
    "plt.legend()\n",
    "#displays the plot\n",
    "plt.show()"
   ]
  },
  {
   "cell_type": "markdown",
   "metadata": {},
   "source": [
    "List of neighborhoods with average rating greater than or equal to 9 for Indian cuisine"
   ]
  },
  {
   "cell_type": "code",
   "execution_count": 34,
   "metadata": {},
   "outputs": [],
   "source": [
    "ny_neighborhood_stats=ny_neighborhood_stats[ny_neighborhood_stats['Average Rating']>=9.0]"
   ]
  },
  {
   "cell_type": "code",
   "execution_count": 35,
   "metadata": {},
   "outputs": [
    {
     "data": {
      "text/html": [
       "<div>\n",
       "<style scoped>\n",
       "    .dataframe tbody tr th:only-of-type {\n",
       "        vertical-align: middle;\n",
       "    }\n",
       "\n",
       "    .dataframe tbody tr th {\n",
       "        vertical-align: top;\n",
       "    }\n",
       "\n",
       "    .dataframe thead th {\n",
       "        text-align: right;\n",
       "    }\n",
       "</style>\n",
       "<table border=\"1\" class=\"dataframe\">\n",
       "  <thead>\n",
       "    <tr style=\"text-align: right;\">\n",
       "      <th></th>\n",
       "      <th>Neighborhood</th>\n",
       "      <th>Average Rating</th>\n",
       "    </tr>\n",
       "  </thead>\n",
       "  <tbody>\n",
       "    <tr>\n",
       "      <th>4</th>\n",
       "      <td>Blissville</td>\n",
       "      <td>9.1</td>\n",
       "    </tr>\n",
       "    <tr>\n",
       "      <th>11</th>\n",
       "      <td>Civic Center</td>\n",
       "      <td>9.1</td>\n",
       "    </tr>\n",
       "    <tr>\n",
       "      <th>62</th>\n",
       "      <td>Sunnyside</td>\n",
       "      <td>9.1</td>\n",
       "    </tr>\n",
       "    <tr>\n",
       "      <th>66</th>\n",
       "      <td>Tribeca</td>\n",
       "      <td>9.1</td>\n",
       "    </tr>\n",
       "  </tbody>\n",
       "</table>\n",
       "</div>"
      ],
      "text/plain": [
       "    Neighborhood  Average Rating\n",
       "4     Blissville             9.1\n",
       "11  Civic Center             9.1\n",
       "62     Sunnyside             9.1\n",
       "66       Tribeca             9.1"
      ]
     },
     "execution_count": 35,
     "metadata": {},
     "output_type": "execute_result"
    }
   ],
   "source": [
    "ny_neighborhood_stats"
   ]
  },
  {
   "cell_type": "code",
   "execution_count": 36,
   "metadata": {},
   "outputs": [],
   "source": [
    "ny_neighborhood_stats=pd.merge(ny_neighborhood_stats,df_ny, on='Neighborhood')"
   ]
  },
  {
   "cell_type": "code",
   "execution_count": 37,
   "metadata": {},
   "outputs": [],
   "source": [
    "ny_neighborhood_stats=ny_neighborhood_stats[['Borough','Neighborhood','Latitude','Longitude','Average Rating']]"
   ]
  },
  {
   "cell_type": "code",
   "execution_count": 38,
   "metadata": {},
   "outputs": [
    {
     "data": {
      "text/html": [
       "<div>\n",
       "<style scoped>\n",
       "    .dataframe tbody tr th:only-of-type {\n",
       "        vertical-align: middle;\n",
       "    }\n",
       "\n",
       "    .dataframe tbody tr th {\n",
       "        vertical-align: top;\n",
       "    }\n",
       "\n",
       "    .dataframe thead th {\n",
       "        text-align: right;\n",
       "    }\n",
       "</style>\n",
       "<table border=\"1\" class=\"dataframe\">\n",
       "  <thead>\n",
       "    <tr style=\"text-align: right;\">\n",
       "      <th></th>\n",
       "      <th>Borough</th>\n",
       "      <th>Neighborhood</th>\n",
       "      <th>Latitude</th>\n",
       "      <th>Longitude</th>\n",
       "      <th>Average Rating</th>\n",
       "    </tr>\n",
       "  </thead>\n",
       "  <tbody>\n",
       "    <tr>\n",
       "      <th>0</th>\n",
       "      <td>Queens</td>\n",
       "      <td>Blissville</td>\n",
       "      <td>40.737251</td>\n",
       "      <td>-73.932442</td>\n",
       "      <td>9.1</td>\n",
       "    </tr>\n",
       "    <tr>\n",
       "      <th>1</th>\n",
       "      <td>Manhattan</td>\n",
       "      <td>Civic Center</td>\n",
       "      <td>40.715229</td>\n",
       "      <td>-74.005415</td>\n",
       "      <td>9.1</td>\n",
       "    </tr>\n",
       "    <tr>\n",
       "      <th>2</th>\n",
       "      <td>Queens</td>\n",
       "      <td>Sunnyside</td>\n",
       "      <td>40.740176</td>\n",
       "      <td>-73.926916</td>\n",
       "      <td>9.1</td>\n",
       "    </tr>\n",
       "    <tr>\n",
       "      <th>3</th>\n",
       "      <td>Staten Island</td>\n",
       "      <td>Sunnyside</td>\n",
       "      <td>40.612760</td>\n",
       "      <td>-74.097126</td>\n",
       "      <td>9.1</td>\n",
       "    </tr>\n",
       "    <tr>\n",
       "      <th>4</th>\n",
       "      <td>Manhattan</td>\n",
       "      <td>Tribeca</td>\n",
       "      <td>40.721522</td>\n",
       "      <td>-74.010683</td>\n",
       "      <td>9.1</td>\n",
       "    </tr>\n",
       "  </tbody>\n",
       "</table>\n",
       "</div>"
      ],
      "text/plain": [
       "         Borough  Neighborhood   Latitude  Longitude  Average Rating\n",
       "0         Queens    Blissville  40.737251 -73.932442             9.1\n",
       "1      Manhattan  Civic Center  40.715229 -74.005415             9.1\n",
       "2         Queens     Sunnyside  40.740176 -73.926916             9.1\n",
       "3  Staten Island     Sunnyside  40.612760 -74.097126             9.1\n",
       "4      Manhattan       Tribeca  40.721522 -74.010683             9.1"
      ]
     },
     "execution_count": 38,
     "metadata": {},
     "output_type": "execute_result"
    }
   ],
   "source": [
    "ny_neighborhood_stats"
   ]
  },
  {
   "cell_type": "markdown",
   "metadata": {},
   "source": [
    "Visualize the"
   ]
  },
  {
   "cell_type": "code",
   "execution_count": 39,
   "metadata": {},
   "outputs": [],
   "source": [
    "# create map and display it\n",
    "ny_map = folium.Map(location=geo_location('New York'), zoom_start=12)"
   ]
  },
  {
   "cell_type": "code",
   "execution_count": 40,
   "metadata": {},
   "outputs": [],
   "source": [
    "incidents = folium.map.FeatureGroup()\n",
    "\n",
    "# loop through the 100 crimes and add each to the incidents feature group\n",
    "for lat, lng, in ny_neighborhood_stats[['Latitude','Longitude']].values:\n",
    "    incidents.add_child(\n",
    "        folium.CircleMarker(\n",
    "            [lat, lng],\n",
    "            radius=10, # define how big you want the circle markers to be\n",
    "            color='#EA1253',\n",
    "            fill=True,\n",
    "            fill_color='#12EA92',\n",
    "            fill_opacity=0.4\n",
    "        )\n",
    "    )"
   ]
  },
  {
   "cell_type": "code",
   "execution_count": 41,
   "metadata": {},
   "outputs": [],
   "source": [
    "ny_neighborhood_stats['Label']=ny_neighborhood_stats['Neighborhood']+', '+ny_neighborhood_stats['Borough']+'('+ny_neighborhood_stats['Average Rating'].map(str)+')'"
   ]
  },
  {
   "cell_type": "code",
   "execution_count": 42,
   "metadata": {},
   "outputs": [
    {
     "data": {
      "text/html": [
       "<div style=\"width:100%;\"><div style=\"position:relative;width:100%;height:0;padding-bottom:60%;\"><span style=\"color:#565656\">Make this Notebook Trusted to load map: File -> Trust Notebook</span><iframe src=\"about:blank\" style=\"position:absolute;width:100%;height:100%;left:0;top:0;border:none !important;\" data-html=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 onload=\"this.contentDocument.open();this.contentDocument.write(atob(this.getAttribute('data-html')));this.contentDocument.close();\" allowfullscreen webkitallowfullscreen mozallowfullscreen></iframe></div></div>"
      ],
      "text/plain": [
       "<folium.folium.Map at 0x7fba01a832e8>"
      ]
     },
     "execution_count": 42,
     "metadata": {},
     "output_type": "execute_result"
    }
   ],
   "source": [
    "# add pop-up text to each marker on the map\n",
    "for lat, lng, label in ny_neighborhood_stats[['Latitude','Longitude','Label']].values:\n",
    "    folium.Marker([lat, lng], popup=label).add_to(ny_map)        \n",
    "# add incidents to map\n",
    "ny_map.add_child(incidents)"
   ]
  },
  {
   "cell_type": "markdown",
   "metadata": {},
   "source": [
    "Create a choropleth map to visualize the borough based on the average rating for better understanding."
   ]
  },
  {
   "cell_type": "code",
   "execution_count": 56,
   "metadata": {},
   "outputs": [],
   "source": [
    "import json\n",
    "ny_map = folium.Map(location=geo_location('New York'), zoom_start=11)\n",
    "url = 'https://data.cityofnewyork.us/City-Government/Borough-Boundaries/tqmj-j8zm'\n",
    "#ny_geo = requests.get(url).json()\n",
    "#ny_geo = r'Borough_Boundaries.geojson'\n",
    "#ny_geo = json.loads('Borough_Boundaries.geojson')\n",
    "with open('geo_bound.json') as f:\n",
    "  ny_geo = json.load(f)\n",
    "#print(data)\n",
    "\n",
    "ny_map.choropleth(\n",
    "    geo_data=ny_geo,\n",
    "    data=ny_borough_stats,\n",
    "    columns=['Borough', 'Average Rating'],\n",
    "    key_on='feature.properties.boro_name',\n",
    "    fill_color='YlGnBu',\n",
    "    fill_opacity=0.6, \n",
    "    line_opacity=0.4,\n",
    "    legend_name='Average Rating'\n",
    ")\n",
    "\n",
    "# display map\n",
    "# as this is huge map data , we will save it to a file\n",
    "ny_map.save('rated-map2.html')\n"
   ]
  },
  {
   "cell_type": "markdown",
   "metadata": {},
   "source": [
    "<h2> 4. Conclusion </h2>"
   ]
  },
  {
   "cell_type": "markdown",
   "metadata": {},
   "source": [
    "Based on the Data Analysis and Visualization using Folium and Matplotlib we have rendered various bar charts and two maps from which we can come to a better understanding of the interests we had earlier to be discovered which are specified as follows.\n",
    "\n",
    "<li> Best Neighborhood for opening Restaurant (Indian Cuisine) in New York. </li>\n",
    "     <ul> Astoria(Queens), Blissville(Queens), Civic Center(Manhattan) are some of the best neighborhoods for indian cuisine. </ul>\n",
    "<li> Area which lack Indian Restaurants. </li>\n",
    "     <ul> Staten Island ranks last in average rating of Indian Resturants. </ul>\n",
    "<li> Places with best Indian Cuisine. </li>\n",
    "     <ul> Manhattan is the best place to stay if you prefer Indian Cuisine. </ul>\n",
    "<li> Areas with Potential Indian Restaurants. </li>\n",
    "     <ul> Manhattan have potential Indian Resturant Market </ul>"
   ]
  }
 ],
 "metadata": {
  "kernelspec": {
   "display_name": "Python",
   "language": "python",
   "name": "conda-env-python-py"
  },
  "language_info": {
   "codemirror_mode": {
    "name": "ipython",
    "version": 3
   },
   "file_extension": ".py",
   "mimetype": "text/x-python",
   "name": "python",
   "nbconvert_exporter": "python",
   "pygments_lexer": "ipython3",
   "version": "3.6.11"
  }
 },
 "nbformat": 4,
 "nbformat_minor": 4
}
